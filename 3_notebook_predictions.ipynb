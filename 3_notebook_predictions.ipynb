{
 "cells": [
  {
   "cell_type": "markdown",
   "id": "63212066",
   "metadata": {},
   "source": [
    "## Target SiteEnergyUseWN(kBtu)"
   ]
  },
  {
   "cell_type": "markdown",
   "id": "1d8f6244",
   "metadata": {},
   "source": [
    "SiteEnergyUseWN(kBtu) - The annual amount of energy consumed by the property from all sources of energy, adjusted to what the property would have consumed during 30-year average weather conditions (one thousand British Thermal Units)\n",
    "\n",
    "1 kilowatt hour has 3.41 kiloBTU)"
   ]
  },
  {
   "cell_type": "code",
   "execution_count": 1,
   "id": "dcd4a202",
   "metadata": {},
   "outputs": [],
   "source": [
    "# Importation des librairies\n",
    "\n",
    "\n",
    "import pandas as pd\n",
    "import matplotlib as mpl\n",
    "import matplotlib.pyplot as plt\n",
    "import seaborn as sns\n",
    "%matplotlib inline\n",
    "import numpy as np\n",
    "import matplotlib.patches as mpatches\n",
    "import matplotlib.gridspec as gridspec \n",
    "import statsmodels as stat\n",
    "from statsmodels.tsa.api import Holt\n",
    "from statsmodels.tools.sm_exceptions import ConvergenceWarning\n",
    "from sklearn.preprocessing import StandardScaler\n",
    "from sklearn.preprocessing import PowerTransformer"
   ]
  },
  {
   "cell_type": "code",
   "execution_count": 2,
   "id": "28f11fb9",
   "metadata": {},
   "outputs": [],
   "source": [
    "data = pd.read_csv(\"data_cleaned_P4.csv\", sep=\",\")"
   ]
  },
  {
   "cell_type": "code",
   "execution_count": 3,
   "id": "dd081234",
   "metadata": {},
   "outputs": [],
   "source": [
    "data = data.drop(['Unnamed: 0'], axis=1)"
   ]
  },
  {
   "cell_type": "markdown",
   "id": "e0482b68",
   "metadata": {},
   "source": [
    "**The usage of gas/electricity/steam**"
   ]
  },
  {
   "cell_type": "code",
   "execution_count": 4,
   "id": "e53ce197",
   "metadata": {},
   "outputs": [],
   "source": [
    "# la nouvelle variable 'Electricity_using', prend la valeur 1 si la propriété utilise l'électricité et 0 si ce n'est pas le cas\n",
    "data['Electricity_using'] = np.where(data['Electricity(kBtu)'] > 0, 1, 0)"
   ]
  },
  {
   "cell_type": "code",
   "execution_count": 5,
   "id": "c8352a25",
   "metadata": {},
   "outputs": [],
   "source": [
    "# la nouvelle variable 'Natural_gas_using', prend la valeur 1 si la propriété utilise l'électricité et 0 si ce n'est pas le cas\n",
    "data['Natural_gas_using'] = np.where(data['NaturalGas(kBtu)'] > 0, 1, 0)"
   ]
  },
  {
   "cell_type": "code",
   "execution_count": 6,
   "id": "07d6697f",
   "metadata": {},
   "outputs": [],
   "source": [
    "# la nouvelle variable 'Steam_using', prend la valeur 1 si la propriété utilise l'électricité et 0 si ce n'est pas le cas\n",
    "data['Steam_using'] = np.where(data['SteamUse(kBtu)'] > 0, 1, 0)"
   ]
  },
  {
   "cell_type": "markdown",
   "id": "42f462fc",
   "metadata": {},
   "source": [
    "**Variables qualitative**"
   ]
  },
  {
   "cell_type": "code",
   "execution_count": 7,
   "id": "52f5e2d4",
   "metadata": {},
   "outputs": [
    {
     "name": "stdout",
     "output_type": "stream",
     "text": [
      "Les variables qualitatives sont les suivantes : \n",
      "\n",
      "BuildingType : 3\n",
      "PrimaryPropertyType : 21\n",
      "Neighborhood : 19\n",
      "LargestPropertyUseType : 55\n",
      "SecondLargestPropertyUseType : 48\n",
      "ThirdLargestPropertyUseType : 39\n"
     ]
    }
   ],
   "source": [
    "# Les colonnes object dtypes sont séléctionnés\n",
    "obj_columns = list(data.select_dtypes(include=['object', 'bool']).columns)\n",
    "\n",
    "print(\"Les variables qualitatives sont les suivantes : \\n\")\n",
    "for categ in obj_columns :\n",
    "    print(categ, \":\", data[categ].nunique())"
   ]
  },
  {
   "cell_type": "markdown",
   "id": "681b5e05",
   "metadata": {},
   "source": [
    "**Variables quantitatives**"
   ]
  },
  {
   "cell_type": "code",
   "execution_count": 8,
   "id": "84287681",
   "metadata": {},
   "outputs": [
    {
     "name": "stdout",
     "output_type": "stream",
     "text": [
      "Les variables quantitatives sont les suivantes : \n",
      "\n",
      "Latitude\n",
      "Longitude\n",
      "NumberofBuildings\n",
      "NumberofFloors\n",
      "PropertyGFATotal\n",
      "LargestPropertyUseTypeGFA\n",
      "SecondLargestPropertyUseTypeGFA\n",
      "ThirdLargestPropertyUseTypeGFA\n",
      "ENERGYSTARScore\n",
      "SiteEUI(kBtu/sf)\n",
      "SiteEUIWN(kBtu/sf)\n",
      "SourceEUI(kBtu/sf)\n",
      "SiteEnergyUse(kBtu)\n",
      "SiteEnergyUseWN(kBtu)\n",
      "SteamUse(kBtu)\n",
      "Electricity(kBtu)\n",
      "NaturalGas(kBtu)\n",
      "TotalGHGEmissions\n",
      "GHGEmissionsIntensity\n",
      "building_age\n",
      "NonResidential\n",
      "Nonresidential COS\n",
      "Nonresidential WA\n",
      "contain_parking\n",
      "parking_area_rate\n",
      "Office_largest_area_rate\n",
      "Non_Refrigerated_Warehouse_largest_area_rate\n",
      "Retail_Store_area_rate\n",
      "Other_largest_area_rate\n",
      "Hotel_largest_area_rate\n",
      "Worship_Facility_largest_area_rate\n",
      "Distribution_Center_largest_area_rate\n",
      "Medical_Office_largest_area_rate\n",
      "Supermarket_largest_area_rate\n",
      "K_12_School_largest_area_rate\n",
      "Recreation_largest_area_rate\n",
      "Office_second_largest_area_rate\n",
      "Retail_Store_second_largest_area_rate\n",
      "Other_second_largest_area_rate\n",
      "Restaurant_second_largest_area_rate\n",
      "Non_Refrigerated_Warehouse_second_largest_area_rate\n",
      "Office_third_largest_area_rate\n",
      "Retail_Store_third_largest_area_rate\n",
      "Other_third_largest_area_rate\n",
      "Restaurant_third_largest_area_rate\n",
      "building_age_type\n",
      "TotalUseTypeNumber\n",
      "Distribution Center\n",
      "Hospital\n",
      "Hotel\n",
      "K-12 School\n",
      "Laboratory\n",
      "Large Office\n",
      "Low-Rise Multifamily\n",
      "Medical Office\n",
      "Mixed Use Property\n",
      "Other\n",
      "Refrigerated Warehouse\n",
      "Residence Hall\n",
      "Restaurant\n",
      "Retail Store\n",
      "Self-Storage Facility\n",
      "Senior Care Community\n",
      "Small- and Mid-Sized Office\n",
      "Supermarket / Grocery Store\n",
      "University\n",
      "Warehouse\n",
      "Worship Facility\n",
      "BALLARD\n",
      "Ballard\n",
      "CENTRAL\n",
      "Central\n",
      "DELRIDGE\n",
      "DELRIDGE NEIGHBORHOODS\n",
      "DOWNTOWN\n",
      "Delridge\n",
      "EAST\n",
      "GREATER DUWAMISH\n",
      "LAKE UNION\n",
      "MAGNOLIA / QUEEN ANNE\n",
      "NORTH\n",
      "NORTHEAST\n",
      "NORTHWEST\n",
      "North\n",
      "Northwest\n",
      "SOUTHEAST\n",
      "SOUTHWEST\n",
      "Adult Education\n",
      "Automobile Dealership\n",
      "Bank Branch\n",
      "College/University\n",
      "Courthouse\n",
      "Data Center\n",
      "Financial Office\n",
      "Fire Station\n",
      "Fitness Center/Health Club/Gym\n",
      "Food Service\n",
      "Hospital (General Medical & Surgical)\n",
      "Library\n",
      "Lifestyle Center\n",
      "Manufacturing/Industrial Plant\n",
      "Movie Theater\n",
      "Multifamily Housing\n",
      "Museum\n",
      "Non-Refrigerated Warehouse\n",
      "Office\n",
      "Other - Education\n",
      "Other - Entertainment/Public Assembly\n",
      "Other - Lodging/Residential\n",
      "Other - Mall\n",
      "Other - Public Services\n",
      "Other - Recreation\n",
      "Other - Restaurant/Bar\n",
      "Other - Services\n",
      "Other - Utility\n",
      "Other/Specialty Hospital\n",
      "Parking\n",
      "Performing Arts\n",
      "Personal Services (Health/Beauty, Dry Cleaning, etc)\n",
      "Police Station\n",
      "Pre-school/Daycare\n",
      "Prison/Incarceration\n",
      "Repair Services (Vehicle, Shoe, Locksmith, etc)\n",
      "Residence Hall/Dormitory\n",
      "Residential Care Facility\n",
      "Social/Meeting Hall\n",
      "Strip Mall\n",
      "Supermarket/Grocery Store\n",
      "Urgent Care/Clinic/Other Outpatient\n",
      "Wholesale Club/Supercenter\n",
      "Bar/Nightclub\n",
      "Convenience Store without Gas Station\n",
      "Enclosed Mall\n",
      "Food Sales\n",
      "Swimming Pool\n",
      "Vocational School\n",
      "unknown\n",
      "Fast Food Restaurant\n",
      "Other - Technology/Science\n"
     ]
    }
   ],
   "source": [
    "# Les colonnes float64 et int64 sont séléctionnés\n",
    "num_columns = list(data.select_dtypes(include=['float64', 'int64']).columns)\n",
    "print(\"Les variables quantitatives sont les suivantes : \\n\")\n",
    "for num in num_columns :\n",
    "    print(num)"
   ]
  },
  {
   "cell_type": "markdown",
   "id": "2b3722a3",
   "metadata": {},
   "source": [
    "## Random forest algorithm\n",
    "\n",
    "Auparavant, nous avons utilisé One-Hot Encoding pour convertir toutes les variables catégorielles en numériques.\n",
    "\n",
    "Étant donné que les algorithmes de machine learning habituels ne fonctionnent que sur des variables quantitatives."
   ]
  },
  {
   "cell_type": "code",
   "execution_count": 9,
   "id": "80cd45df",
   "metadata": {},
   "outputs": [],
   "source": [
    "# Afin de préparer les données pour la modélisation nous allons éliminer les variables catégorielles\n",
    "data = data.drop(['BuildingType'], axis=1)\n",
    "data = data.drop(['PrimaryPropertyType'], axis=1)\n",
    "data = data.drop(['Neighborhood'], axis=1)\n",
    "data = data.drop(['LargestPropertyUseType'], axis=1)\n",
    "data = data.drop(['SecondLargestPropertyUseType'], axis=1)\n",
    "data = data.drop(['ThirdLargestPropertyUseType'], axis=1)"
   ]
  },
  {
   "cell_type": "code",
   "execution_count": 10,
   "id": "808f123e",
   "metadata": {},
   "outputs": [],
   "source": [
    "# SiteEnergyUseWN(kBtu) sont les valeurs que nous voulons prédire\n",
    "SiteEnergyUseWN = np.array(data['SiteEnergyUseWN(kBtu)'])"
   ]
  },
  {
   "cell_type": "code",
   "execution_count": 11,
   "id": "7450849c",
   "metadata": {},
   "outputs": [],
   "source": [
    "# Eliminer SiteEnergyUseWN(kBtu) de data\n",
    "data_to_model_energy = data.drop(['SiteEnergyUseWN(kBtu)', 'SiteEnergyUse(kBtu)', 'NaturalGas(kBtu)', 'Electricity(kBtu)', 'SteamUse(kBtu)', 'SiteEUI(kBtu/sf)', 'SiteEUIWN(kBtu/sf)', 'SourceEUI(kBtu/sf)', 'TotalGHGEmissions', 'GHGEmissionsIntensity'], axis = 1)"
   ]
  },
  {
   "cell_type": "code",
   "execution_count": 12,
   "id": "e75858af",
   "metadata": {},
   "outputs": [],
   "source": [
    "# Enregistrement des noms de colonnes pour une utilisation ultérieure\n",
    "data_to_model_energy_list = list(data_to_model_energy.columns)"
   ]
  },
  {
   "cell_type": "code",
   "execution_count": 13,
   "id": "ec1c05b7",
   "metadata": {},
   "outputs": [],
   "source": [
    "# Convertir en numpy array\n",
    "data_to_model_energy = np.array(data_to_model_energy)"
   ]
  },
  {
   "cell_type": "markdown",
   "id": "1773ede9",
   "metadata": {},
   "source": [
    "**Training and Testing Sets**"
   ]
  },
  {
   "cell_type": "code",
   "execution_count": 14,
   "id": "04354770",
   "metadata": {},
   "outputs": [],
   "source": [
    "# Using Skicit-learn to split data into training and testing sets\n",
    "from sklearn.model_selection import train_test_split"
   ]
  },
  {
   "cell_type": "code",
   "execution_count": 15,
   "id": "3aa45295",
   "metadata": {},
   "outputs": [],
   "source": [
    "# Split the data into training and testing sets\n",
    "train_data_to_model_energy, test_data_to_model_energy, train_SiteEnergyUseWN, test_SiteEnergyUseWN = train_test_split(data_to_model_energy, SiteEnergyUseWN, test_size = 0.25, random_state = 42)"
   ]
  },
  {
   "cell_type": "markdown",
   "id": "6465cff8",
   "metadata": {},
   "source": [
    "Nous pouvons examiner la forme de toutes les données pour nous assurer que nous avons tout fait correctement."
   ]
  },
  {
   "cell_type": "code",
   "execution_count": 16,
   "id": "092dd58d",
   "metadata": {},
   "outputs": [
    {
     "name": "stdout",
     "output_type": "stream",
     "text": [
      "Training data_to_model_energy Shape: (1131, 132)\n",
      "Training SiteEnergyUseWN Shape: (1131,)\n",
      "Testing data_to_model_energy Shape: (377, 132)\n",
      "Testing SiteEnergyUseWN Shape: (377,)\n"
     ]
    }
   ],
   "source": [
    "print('Training data_to_model_energy Shape:', train_data_to_model_energy.shape)\n",
    "print('Training SiteEnergyUseWN Shape:', train_SiteEnergyUseWN.shape)\n",
    "print('Testing data_to_model_energy Shape:', test_data_to_model_energy.shape)\n",
    "print('Testing SiteEnergyUseWN Shape:', test_SiteEnergyUseWN.shape)"
   ]
  },
  {
   "cell_type": "markdown",
   "id": "70c42cac",
   "metadata": {},
   "source": [
    "Il semble que tout soit en ordre"
   ]
  },
  {
   "cell_type": "markdown",
   "id": "78adaa27",
   "metadata": {},
   "source": [
    "**Train Model**"
   ]
  },
  {
   "cell_type": "code",
   "execution_count": 17,
   "id": "7ab6cfa3",
   "metadata": {},
   "outputs": [],
   "source": [
    "# Import the model we are using\n",
    "from sklearn.ensemble import RandomForestRegressor"
   ]
  },
  {
   "cell_type": "code",
   "execution_count": 18,
   "id": "571aa65e",
   "metadata": {},
   "outputs": [],
   "source": [
    "# Instantiate model with 1000 decision trees\n",
    "rf = RandomForestRegressor(n_estimators = 1000, random_state = 42)"
   ]
  },
  {
   "cell_type": "code",
   "execution_count": 19,
   "id": "a72cde7c",
   "metadata": {},
   "outputs": [
    {
     "data": {
      "text/plain": [
       "RandomForestRegressor(n_estimators=1000, random_state=42)"
      ]
     },
     "execution_count": 19,
     "metadata": {},
     "output_type": "execute_result"
    }
   ],
   "source": [
    "# Train the model on training data\n",
    "rf.fit(train_data_to_model_energy, train_SiteEnergyUseWN)"
   ]
  },
  {
   "cell_type": "markdown",
   "id": "588004e3",
   "metadata": {},
   "source": [
    "**Make Predictions on the Test Set**"
   ]
  },
  {
   "cell_type": "code",
   "execution_count": 20,
   "id": "7501530d",
   "metadata": {},
   "outputs": [],
   "source": [
    "# Use the forest's predict method on the test data\n",
    "predictions = rf.predict(test_data_to_model_energy)"
   ]
  },
  {
   "cell_type": "markdown",
   "id": "05673755",
   "metadata": {},
   "source": [
    "**Evaluation of the model R^2**"
   ]
  },
  {
   "cell_type": "code",
   "execution_count": 21,
   "id": "da74981c",
   "metadata": {},
   "outputs": [
    {
     "name": "stdout",
     "output_type": "stream",
     "text": [
      "R-squared scores: 0.38442\n"
     ]
    }
   ],
   "source": [
    "from sklearn.metrics import r2_score\n",
    "test_score = r2_score(test_SiteEnergyUseWN, predictions)\n",
    "\n",
    "print('R-squared scores:', round(test_score, 5))"
   ]
  },
  {
   "cell_type": "code",
   "execution_count": 22,
   "id": "7eddbdcb",
   "metadata": {},
   "outputs": [
    {
     "name": "stdout",
     "output_type": "stream",
     "text": [
      "Mean Absolute Error: 4047245.21\n",
      "Mean Absolute Percentage Error: 2.3518694830233105e+20\n"
     ]
    }
   ],
   "source": [
    "from sklearn.metrics import mean_absolute_error, mean_absolute_percentage_error\n",
    "\n",
    "\n",
    "# Mean absolute error (MAE)\n",
    "mae = mean_absolute_error(test_SiteEnergyUseWN, predictions)\n",
    "mape = mean_absolute_percentage_error(test_SiteEnergyUseWN, predictions)\n",
    "\n",
    "print('Mean Absolute Error:', round(mae, 2))\n",
    "print('Mean Absolute Percentage Error:', round(mape, 2))"
   ]
  },
  {
   "cell_type": "markdown",
   "id": "4ece5643",
   "metadata": {},
   "source": [
    "On peut améliorer la performanve du modele - tuning des hyperparameters"
   ]
  },
  {
   "cell_type": "markdown",
   "id": "76c2b661",
   "metadata": {},
   "source": [
    "**Tuning the parameters**"
   ]
  },
  {
   "cell_type": "code",
   "execution_count": 23,
   "id": "00868506",
   "metadata": {},
   "outputs": [
    {
     "name": "stdout",
     "output_type": "stream",
     "text": [
      "Parameters currently in use:\n",
      "\n",
      "{'bootstrap': True, 'ccp_alpha': 0.0, 'criterion': 'mse', 'max_depth': None, 'max_features': 'auto', 'max_leaf_nodes': None, 'max_samples': None, 'min_impurity_decrease': 0.0, 'min_impurity_split': None, 'min_samples_leaf': 1, 'min_samples_split': 2, 'min_weight_fraction_leaf': 0.0, 'n_estimators': 1000, 'n_jobs': None, 'oob_score': False, 'random_state': 42, 'verbose': 0, 'warm_start': False}\n"
     ]
    }
   ],
   "source": [
    "# Look at parameters used by our current forest\n",
    "print('Parameters currently in use:\\n')\n",
    "print(rf.get_params())"
   ]
  },
  {
   "cell_type": "code",
   "execution_count": 24,
   "id": "9dbe2e07",
   "metadata": {},
   "outputs": [
    {
     "name": "stdout",
     "output_type": "stream",
     "text": [
      "Fitting 3 folds for each of 220 candidates, totalling 660 fits\n"
     ]
    },
    {
     "data": {
      "text/plain": [
       "{'bootstrap': True,\n",
       " 'max_depth': 20,\n",
       " 'max_features': 'sqrt',\n",
       " 'n_estimators': 800}"
      ]
     },
     "execution_count": 24,
     "metadata": {},
     "output_type": "execute_result"
    }
   ],
   "source": [
    "# Import GridSearchCV\n",
    "from sklearn.model_selection import GridSearchCV\n",
    "\n",
    "# Find the best parameters for the model\n",
    "parameters = {\n",
    " 'bootstrap': [True, False],\n",
    " 'max_depth': [4, 5, 6, 7, 8, 10, 15, 20, 25, 30, None],\n",
    " 'max_features': ['auto', 'sqrt'],\n",
    " #'min_samples_leaf': [1, 2, 4],\n",
    " #'min_samples_split': [2, 5, 10],\n",
    " 'n_estimators': [600, 800, 1000, 1200, 1400]\n",
    "}\n",
    "\n",
    "gridforest = GridSearchCV(rf, parameters, cv = 3, n_jobs = -1, verbose = 1)\n",
    "gridforest.fit(train_data_to_model_energy, train_SiteEnergyUseWN)\n",
    "gridforest.best_params_"
   ]
  },
  {
   "cell_type": "markdown",
   "id": "a66cc8fe",
   "metadata": {},
   "source": [
    "Si l'on passe les paramètres obtenus à l'algorithme, on verra que les erreurs ont diminué et que les scores R au carré ont augmenté, ce qui signifie que l'algorithme avec les hyperparamètres réglés a une précision de prédiction plus élevée."
   ]
  },
  {
   "cell_type": "code",
   "execution_count": 25,
   "id": "74d1c760",
   "metadata": {},
   "outputs": [],
   "source": [
    "# Instantiate model with 1000 decision trees\n",
    "rf_tuned = RandomForestRegressor(n_estimators = 800, max_depth = 20, max_features = 'sqrt', bootstrap = True, random_state = 42)"
   ]
  },
  {
   "cell_type": "code",
   "execution_count": 26,
   "id": "435e2ebd",
   "metadata": {},
   "outputs": [
    {
     "data": {
      "text/plain": [
       "RandomForestRegressor(max_depth=20, max_features='sqrt', n_estimators=800,\n",
       "                      random_state=42)"
      ]
     },
     "execution_count": 26,
     "metadata": {},
     "output_type": "execute_result"
    }
   ],
   "source": [
    "# Train the model on training data\n",
    "rf_tuned.fit(train_data_to_model_energy, train_SiteEnergyUseWN)"
   ]
  },
  {
   "cell_type": "code",
   "execution_count": 27,
   "id": "dc60edf1",
   "metadata": {},
   "outputs": [],
   "source": [
    "# Use the forest's predict method on the test data\n",
    "predictions_tuned= rf_tuned.predict(test_data_to_model_energy)"
   ]
  },
  {
   "cell_type": "code",
   "execution_count": 28,
   "id": "73a24da4",
   "metadata": {},
   "outputs": [
    {
     "name": "stdout",
     "output_type": "stream",
     "text": [
      "R-squared scores: 0.46861\n"
     ]
    }
   ],
   "source": [
    "test_score = r2_score(test_SiteEnergyUseWN, predictions_tuned)\n",
    "\n",
    "print('R-squared scores:', round(test_score, 5))"
   ]
  },
  {
   "cell_type": "code",
   "execution_count": 30,
   "id": "ca0a8ef0",
   "metadata": {},
   "outputs": [
    {
     "name": "stdout",
     "output_type": "stream",
     "text": [
      "Mean Absolute Error: 4075090.04\n"
     ]
    }
   ],
   "source": [
    "# Mean absolute error (MAE)\n",
    "mae = mean_absolute_error(test_SiteEnergyUseWN, predictions_tuned)\n",
    "\n",
    "print('Mean Absolute Error:', round(mae, 2))"
   ]
  },
  {
   "cell_type": "markdown",
   "id": "651d2acc",
   "metadata": {},
   "source": [
    "Lorsque les hyperparamètres sont ajustés, les performances du modèle sont améliorées"
   ]
  },
  {
   "cell_type": "markdown",
   "id": "1858db2f",
   "metadata": {},
   "source": [
    "## Ridge Regression"
   ]
  },
  {
   "cell_type": "code",
   "execution_count": 39,
   "id": "152522b3",
   "metadata": {},
   "outputs": [],
   "source": [
    "import pandas as pd\n",
    "import numpy as np\n",
    "from sklearn import model_selection\n",
    "from sklearn.linear_model import LinearRegression\n",
    "from sklearn.linear_model import Ridge\n",
    "from sklearn.linear_model import Lasso\n",
    "from sklearn.linear_model import ElasticNet\n",
    "from sklearn.neighbors import KNeighborsRegressor\n",
    "from sklearn.tree import DecisionTreeRegressor\n",
    "from sklearn.svm import SVR\n",
    "from sklearn.ensemble import RandomForestRegressor\n",
    "from sklearn.metrics import r2_score\n",
    "from sklearn.model_selection import train_test_split\n",
    "from sklearn.metrics import mean_squared_error\n",
    "from math import sqrt"
   ]
  },
  {
   "cell_type": "code",
   "execution_count": 31,
   "id": "ab8d6dde",
   "metadata": {},
   "outputs": [],
   "source": [
    "# SiteEnergyUseWN(kBtu) sont les valeurs que nous voulons prédire\n",
    "SiteEnergyUseWN = np.array(data['SiteEnergyUseWN(kBtu)'])"
   ]
  },
  {
   "cell_type": "code",
   "execution_count": 32,
   "id": "78c71c36",
   "metadata": {},
   "outputs": [],
   "source": [
    "# Eliminer SiteEnergyUseWN(kBtu) de data\n",
    "data_to_model_energy = data.drop(['SiteEnergyUseWN(kBtu)', 'SiteEnergyUse(kBtu)', 'NaturalGas(kBtu)', 'Electricity(kBtu)', 'SteamUse(kBtu)', 'SiteEUI(kBtu/sf)', 'SiteEUIWN(kBtu/sf)', 'SourceEUI(kBtu/sf)', 'TotalGHGEmissions', 'GHGEmissionsIntensity'], axis = 1)"
   ]
  },
  {
   "cell_type": "code",
   "execution_count": 33,
   "id": "57de4e2d",
   "metadata": {},
   "outputs": [],
   "source": [
    "# Enregistrement des noms de colonnes pour une utilisation ultérieure\n",
    "data_to_model_energy_list = list(data_to_model_energy.columns)"
   ]
  },
  {
   "cell_type": "code",
   "execution_count": 34,
   "id": "0129c74f",
   "metadata": {},
   "outputs": [],
   "source": [
    "# Convertir en numpy array\n",
    "data_to_model_energy = np.array(data_to_model_energy)"
   ]
  },
  {
   "cell_type": "code",
   "execution_count": 35,
   "id": "6c560622",
   "metadata": {},
   "outputs": [],
   "source": [
    "# Using Skicit-learn to split data into training and testing sets\n",
    "from sklearn.model_selection import train_test_split"
   ]
  },
  {
   "cell_type": "code",
   "execution_count": 36,
   "id": "a19b6029",
   "metadata": {},
   "outputs": [],
   "source": [
    "# Split the data into training and testing sets\n",
    "train_data_to_model_energy, test_data_to_model_energy, train_SiteEnergyUseWN, test_SiteEnergyUseWN = train_test_split(data_to_model_energy, SiteEnergyUseWN, test_size = 0.25, random_state = 42)"
   ]
  },
  {
   "cell_type": "code",
   "execution_count": 40,
   "id": "671aba39",
   "metadata": {},
   "outputs": [
    {
     "name": "stdout",
     "output_type": "stream",
     "text": [
      "Training data_to_model_energy Shape: (1131, 132)\n",
      "Training SiteEnergyUseWN Shape: (1131,)\n",
      "Testing data_to_model_energy Shape: (377, 132)\n",
      "Testing SiteEnergyUseWN Shape: (377,)\n"
     ]
    }
   ],
   "source": [
    "print('Training data_to_model_energy Shape:', train_data_to_model_energy.shape)\n",
    "print('Training SiteEnergyUseWN Shape:', train_SiteEnergyUseWN.shape)\n",
    "print('Testing data_to_model_energy Shape:', test_data_to_model_energy.shape)\n",
    "print('Testing SiteEnergyUseWN Shape:', test_SiteEnergyUseWN.shape)"
   ]
  },
  {
   "cell_type": "code",
   "execution_count": 41,
   "id": "a2507508",
   "metadata": {},
   "outputs": [],
   "source": [
    "# Instantiate model with regularization coeficient alpha = 0.01\n",
    "rr = Ridge(alpha=0.01)"
   ]
  },
  {
   "cell_type": "code",
   "execution_count": 42,
   "id": "af0154fa",
   "metadata": {},
   "outputs": [
    {
     "data": {
      "text/plain": [
       "Ridge(alpha=0.01)"
      ]
     },
     "execution_count": 42,
     "metadata": {},
     "output_type": "execute_result"
    }
   ],
   "source": [
    "# Train the model on the X training set and target (Y) training set\n",
    "rr.fit(train_data_to_model_energy, train_SiteEnergyUseWN) "
   ]
  },
  {
   "cell_type": "code",
   "execution_count": 43,
   "id": "562018a4",
   "metadata": {},
   "outputs": [],
   "source": [
    "# Calculate predicted values using the trained model\n",
    "pred_train_rr= rr.predict(train_data_to_model_energy)"
   ]
  },
  {
   "cell_type": "code",
   "execution_count": 44,
   "id": "117d8f1f",
   "metadata": {},
   "outputs": [
    {
     "name": "stdout",
     "output_type": "stream",
     "text": [
      "7549693.723442148\n",
      "0.8322247882257374\n"
     ]
    }
   ],
   "source": [
    "# Evaluate the model on the training set\n",
    "print(np.sqrt(mean_squared_error(train_SiteEnergyUseWN,pred_train_rr)))\n",
    "print(r2_score(train_SiteEnergyUseWN, pred_train_rr))"
   ]
  },
  {
   "cell_type": "code",
   "execution_count": 45,
   "id": "94ac213e",
   "metadata": {},
   "outputs": [
    {
     "name": "stdout",
     "output_type": "stream",
     "text": [
      "16762585.416418089\n",
      "0.33162075630611876\n"
     ]
    }
   ],
   "source": [
    "# Evaluate the model on the test set\n",
    "pred_test_rr= rr.predict(test_data_to_model_energy)\n",
    "print(np.sqrt(mean_squared_error(test_SiteEnergyUseWN,pred_test_rr))) \n",
    "print(r2_score(test_SiteEnergyUseWN, pred_test_rr))"
   ]
  },
  {
   "cell_type": "code",
   "execution_count": 46,
   "id": "62ca370b",
   "metadata": {},
   "outputs": [
    {
     "name": "stdout",
     "output_type": "stream",
     "text": [
      "Mean Absolute Error: 5443591.22\n",
      "Mean Absolute Percentage Error: 1.5546205656081007e+20\n"
     ]
    }
   ],
   "source": [
    "from sklearn.metrics import mean_absolute_error, mean_absolute_percentage_error\n",
    "\n",
    "\n",
    "# Mean absolute error (MAE)\n",
    "mae = mean_absolute_error(test_SiteEnergyUseWN, pred_test_rr)\n",
    "mape = mean_absolute_percentage_error(test_SiteEnergyUseWN, pred_test_rr)\n",
    "\n",
    "print('Mean Absolute Error:', round(mae, 2))\n",
    "print('Mean Absolute Percentage Error:', round(mape, 2))"
   ]
  },
  {
   "cell_type": "markdown",
   "id": "32dfa8c0",
   "metadata": {},
   "source": [
    "On peut essayer d'améliorer le modèle en ajustant alpha"
   ]
  },
  {
   "cell_type": "markdown",
   "id": "25b66357",
   "metadata": {},
   "source": [
    "**Tuning des parameters**"
   ]
  },
  {
   "cell_type": "code",
   "execution_count": 47,
   "id": "5bc812a2",
   "metadata": {},
   "outputs": [
    {
     "name": "stdout",
     "output_type": "stream",
     "text": [
      "Parameters currently in use:\n",
      "\n",
      "{'alpha': 0.01, 'copy_X': True, 'fit_intercept': True, 'max_iter': None, 'normalize': False, 'random_state': None, 'solver': 'auto', 'tol': 0.001}\n"
     ]
    }
   ],
   "source": [
    "# Look at parameters used by our current forest\n",
    "print('Parameters currently in use:\\n')\n",
    "print(rr.get_params())"
   ]
  },
  {
   "cell_type": "code",
   "execution_count": 48,
   "id": "a8e52b1b",
   "metadata": {},
   "outputs": [
    {
     "name": "stdout",
     "output_type": "stream",
     "text": [
      "Fitting 3 folds for each of 13 candidates, totalling 39 fits\n"
     ]
    },
    {
     "data": {
      "text/plain": [
       "{'alpha': 1.0}"
      ]
     },
     "execution_count": 48,
     "metadata": {},
     "output_type": "execute_result"
    }
   ],
   "source": [
    "# Import GridSearchCV\n",
    "from sklearn.model_selection import GridSearchCV\n",
    "\n",
    "# Find the best parameters for the model\n",
    "parameters = {\n",
    " 'alpha': [0.01, 0.02, 0.05, 0.1, 0.2, 0.3, 0.4, 0.5, 0.6, 0.7, 0.8, 0.9, 1.0]\n",
    "}\n",
    "\n",
    "ridge = GridSearchCV(rr, parameters, cv = 3, n_jobs = -1, verbose = 1)\n",
    "ridge.fit(train_data_to_model_energy, train_SiteEnergyUseWN)\n",
    "ridge.best_params_"
   ]
  },
  {
   "cell_type": "code",
   "execution_count": 49,
   "id": "e8e053b6",
   "metadata": {},
   "outputs": [],
   "source": [
    "# Instantiate model with regularization coeficient alpha = 1.0\n",
    "rr_tuned = Ridge(alpha=1.0)"
   ]
  },
  {
   "cell_type": "code",
   "execution_count": 50,
   "id": "5765924b",
   "metadata": {},
   "outputs": [
    {
     "data": {
      "text/plain": [
       "Ridge()"
      ]
     },
     "execution_count": 50,
     "metadata": {},
     "output_type": "execute_result"
    }
   ],
   "source": [
    "# Train the model on the X training set and target (Y) training set\n",
    "rr_tuned.fit(train_data_to_model_energy, train_SiteEnergyUseWN) "
   ]
  },
  {
   "cell_type": "code",
   "execution_count": 51,
   "id": "7b84060f",
   "metadata": {},
   "outputs": [],
   "source": [
    "# Calculate predicted values using the trained model\n",
    "pred_train_rr_tuned= rr_tuned.predict(train_data_to_model_energy)"
   ]
  },
  {
   "cell_type": "code",
   "execution_count": 52,
   "id": "ff9aab01",
   "metadata": {},
   "outputs": [
    {
     "name": "stdout",
     "output_type": "stream",
     "text": [
      "7709216.286714446\n",
      "0.8250598118977028\n"
     ]
    }
   ],
   "source": [
    "# Evaluate the model on the training set\n",
    "print(np.sqrt(mean_squared_error(train_SiteEnergyUseWN,pred_train_rr_tuned)))\n",
    "print(r2_score(train_SiteEnergyUseWN, pred_train_rr_tuned))"
   ]
  },
  {
   "cell_type": "code",
   "execution_count": 53,
   "id": "4cfde772",
   "metadata": {},
   "outputs": [
    {
     "name": "stdout",
     "output_type": "stream",
     "text": [
      "16648027.762202494\n",
      "0.34072511804684646\n"
     ]
    }
   ],
   "source": [
    "# Evaluate the model on the test set\n",
    "pred_test_rr_tuned= rr_tuned.predict(test_data_to_model_energy)\n",
    "print(np.sqrt(mean_squared_error(test_SiteEnergyUseWN,pred_test_rr_tuned))) \n",
    "print(r2_score(test_SiteEnergyUseWN, pred_test_rr_tuned))"
   ]
  },
  {
   "cell_type": "code",
   "execution_count": 54,
   "id": "1ae81ad6",
   "metadata": {},
   "outputs": [
    {
     "name": "stdout",
     "output_type": "stream",
     "text": [
      "Mean Absolute Error: 5344172.52\n",
      "Mean Absolute Percentage Error: 1.6588460370469434e+20\n"
     ]
    }
   ],
   "source": [
    "from sklearn.metrics import mean_absolute_error, mean_absolute_percentage_error\n",
    "\n",
    "\n",
    "# Mean absolute error (MAE)\n",
    "mae = mean_absolute_error(test_SiteEnergyUseWN, pred_test_rr_tuned)\n",
    "mape = mean_absolute_percentage_error(test_SiteEnergyUseWN, pred_test_rr_tuned)\n",
    "\n",
    "print('Mean Absolute Error:', round(mae, 2))\n",
    "print('Mean Absolute Percentage Error:', round(mape, 2))"
   ]
  },
  {
   "cell_type": "markdown",
   "id": "af99c240",
   "metadata": {},
   "source": [
    "On peut remarquer une légère amélioration des performances du modèle"
   ]
  },
  {
   "cell_type": "markdown",
   "id": "f852e93f",
   "metadata": {},
   "source": [
    "## Lasso Regression"
   ]
  },
  {
   "cell_type": "markdown",
   "id": "92f74820",
   "metadata": {},
   "source": [
    "Comme les algorithmes Ridge et Lasso sont similaires, on s'attend à ce qu'ils affichent des performances similaires"
   ]
  },
  {
   "cell_type": "code",
   "execution_count": 55,
   "id": "573b7a34",
   "metadata": {},
   "outputs": [],
   "source": [
    "# SiteEnergyUseWN(kBtu) sont les valeurs que nous voulons prédire\n",
    "SiteEnergyUseWN = np.array(data['SiteEnergyUseWN(kBtu)'])"
   ]
  },
  {
   "cell_type": "code",
   "execution_count": 56,
   "id": "c5074a22",
   "metadata": {},
   "outputs": [],
   "source": [
    "# Eliminer SiteEnergyUseWN(kBtu) de data\n",
    "data_to_model_energy = data.drop(['SiteEnergyUseWN(kBtu)', 'SiteEnergyUse(kBtu)', 'NaturalGas(kBtu)', 'Electricity(kBtu)', 'SteamUse(kBtu)', 'SiteEUI(kBtu/sf)', 'SiteEUIWN(kBtu/sf)', 'SourceEUI(kBtu/sf)', 'TotalGHGEmissions', 'GHGEmissionsIntensity'], axis = 1)"
   ]
  },
  {
   "cell_type": "code",
   "execution_count": 57,
   "id": "e02112e6",
   "metadata": {},
   "outputs": [],
   "source": [
    "# Enregistrement des noms de colonnes pour une utilisation ultérieure\n",
    "data_to_model_energy_list = list(data_to_model_energy.columns)"
   ]
  },
  {
   "cell_type": "code",
   "execution_count": 58,
   "id": "04049392",
   "metadata": {},
   "outputs": [],
   "source": [
    "# Convertir en numpy array\n",
    "data_to_model_energy = np.array(data_to_model_energy)"
   ]
  },
  {
   "cell_type": "code",
   "execution_count": 59,
   "id": "00d9df9e",
   "metadata": {},
   "outputs": [],
   "source": [
    "# Using Skicit-learn to split data into training and testing sets\n",
    "from sklearn.model_selection import train_test_split"
   ]
  },
  {
   "cell_type": "code",
   "execution_count": 60,
   "id": "4b3f4e8d",
   "metadata": {},
   "outputs": [],
   "source": [
    "# Split the data into training and testing sets\n",
    "train_data_to_model_energy, test_data_to_model_energy, train_SiteEnergyUseWN, test_SiteEnergyUseWN = train_test_split(data_to_model_energy, SiteEnergyUseWN, test_size = 0.25, random_state = 42)"
   ]
  },
  {
   "cell_type": "code",
   "execution_count": 61,
   "id": "e099e34c",
   "metadata": {},
   "outputs": [
    {
     "name": "stdout",
     "output_type": "stream",
     "text": [
      "Training data_to_model_energy Shape: (1131, 132)\n",
      "Training SiteEnergyUseWN Shape: (1131,)\n",
      "Testing data_to_model_energy Shape: (377, 132)\n",
      "Testing SiteEnergyUseWN Shape: (377,)\n"
     ]
    }
   ],
   "source": [
    "print('Training data_to_model_energy Shape:', train_data_to_model_energy.shape)\n",
    "print('Training SiteEnergyUseWN Shape:', train_SiteEnergyUseWN.shape)\n",
    "print('Testing data_to_model_energy Shape:', test_data_to_model_energy.shape)\n",
    "print('Testing SiteEnergyUseWN Shape:', test_SiteEnergyUseWN.shape)"
   ]
  },
  {
   "cell_type": "code",
   "execution_count": 62,
   "id": "5efe242a",
   "metadata": {},
   "outputs": [],
   "source": [
    "# Lasso model with alpha = 0.01\n",
    "model_lasso = Lasso(alpha=0.01)"
   ]
  },
  {
   "cell_type": "code",
   "execution_count": 63,
   "id": "f326a45c",
   "metadata": {},
   "outputs": [
    {
     "name": "stderr",
     "output_type": "stream",
     "text": [
      "C:\\Openclassrooms\\P2\\lib\\site-packages\\sklearn\\linear_model\\_coordinate_descent.py:530: ConvergenceWarning: Objective did not converge. You might want to increase the number of iterations. Duality gap: 3.2230149822968604e+16, tolerance: 38423195120830.31\n",
      "  model = cd_fast.enet_coordinate_descent(\n"
     ]
    },
    {
     "data": {
      "text/plain": [
       "Lasso(alpha=0.01)"
      ]
     },
     "execution_count": 63,
     "metadata": {},
     "output_type": "execute_result"
    }
   ],
   "source": [
    "# Train the model on the training set\n",
    "model_lasso.fit(train_data_to_model_energy, train_SiteEnergyUseWN) "
   ]
  },
  {
   "cell_type": "code",
   "execution_count": 64,
   "id": "35c15fdd",
   "metadata": {},
   "outputs": [],
   "source": [
    "# Predictions on the training set\n",
    "pred_train_lasso= model_lasso.predict(train_data_to_model_energy)"
   ]
  },
  {
   "cell_type": "code",
   "execution_count": 65,
   "id": "a2d29d22",
   "metadata": {},
   "outputs": [
    {
     "name": "stdout",
     "output_type": "stream",
     "text": [
      "7549443.051966594\n",
      "0.8322359292768158\n"
     ]
    }
   ],
   "source": [
    "# Evaluating the performance of the model on the training set\n",
    "print(np.sqrt(mean_squared_error(train_SiteEnergyUseWN,pred_train_lasso)))\n",
    "print(r2_score(train_SiteEnergyUseWN, pred_train_lasso))"
   ]
  },
  {
   "cell_type": "code",
   "execution_count": 66,
   "id": "cdb085d8",
   "metadata": {},
   "outputs": [],
   "source": [
    "# Prediction on the test set\n",
    "pred_test_lasso= model_lasso.predict(test_data_to_model_energy)"
   ]
  },
  {
   "cell_type": "code",
   "execution_count": 67,
   "id": "b5e89a93",
   "metadata": {},
   "outputs": [
    {
     "name": "stdout",
     "output_type": "stream",
     "text": [
      "16763063.928222898\n",
      "0.33158259609214047\n"
     ]
    }
   ],
   "source": [
    "# Evaluating the model on the test set\n",
    "print(np.sqrt(mean_squared_error(test_SiteEnergyUseWN,pred_test_lasso))) \n",
    "print(r2_score(test_SiteEnergyUseWN, pred_test_lasso))"
   ]
  },
  {
   "cell_type": "markdown",
   "id": "a6e61c99",
   "metadata": {},
   "source": [
    "Cette valeur de R^2 est proche de celle montrée par l'algorithme Ridge"
   ]
  },
  {
   "cell_type": "code",
   "execution_count": 68,
   "id": "965f8ad4",
   "metadata": {},
   "outputs": [
    {
     "name": "stdout",
     "output_type": "stream",
     "text": [
      "Mean Absolute Error: 5449992.82\n",
      "Mean Absolute Percentage Error: 1.55207329148654e+20\n"
     ]
    }
   ],
   "source": [
    "from sklearn.metrics import mean_absolute_error, mean_absolute_percentage_error\n",
    "\n",
    "\n",
    "# Mean absolute error (MAE)\n",
    "mae = mean_absolute_error(test_SiteEnergyUseWN, pred_test_lasso)\n",
    "mape = mean_absolute_percentage_error(test_SiteEnergyUseWN, pred_test_lasso)\n",
    "\n",
    "print('Mean Absolute Error:', round(mae, 2))\n",
    "print('Mean Absolute Percentage Error:', round(mape, 2))"
   ]
  },
  {
   "cell_type": "markdown",
   "id": "167f1752",
   "metadata": {},
   "source": [
    "**Tuning des parameters**"
   ]
  },
  {
   "cell_type": "code",
   "execution_count": 69,
   "id": "a0b16712",
   "metadata": {},
   "outputs": [
    {
     "name": "stdout",
     "output_type": "stream",
     "text": [
      "Parameters currently in use:\n",
      "\n",
      "{'alpha': 0.01, 'copy_X': True, 'fit_intercept': True, 'max_iter': 1000, 'normalize': False, 'positive': False, 'precompute': False, 'random_state': None, 'selection': 'cyclic', 'tol': 0.0001, 'warm_start': False}\n"
     ]
    }
   ],
   "source": [
    "# Look at parameters used by our current forest\n",
    "print('Parameters currently in use:\\n')\n",
    "print(model_lasso.get_params())"
   ]
  },
  {
   "cell_type": "code",
   "execution_count": 70,
   "id": "e2382dc0",
   "metadata": {},
   "outputs": [
    {
     "name": "stdout",
     "output_type": "stream",
     "text": [
      "Fitting 3 folds for each of 19 candidates, totalling 57 fits\n"
     ]
    },
    {
     "name": "stderr",
     "output_type": "stream",
     "text": [
      "C:\\Openclassrooms\\P2\\lib\\site-packages\\sklearn\\linear_model\\_coordinate_descent.py:530: ConvergenceWarning: Objective did not converge. You might want to increase the number of iterations. Duality gap: 3.2230149822968604e+16, tolerance: 38423195120830.31\n",
      "  model = cd_fast.enet_coordinate_descent(\n"
     ]
    },
    {
     "data": {
      "text/plain": [
       "{'alpha': 0.01}"
      ]
     },
     "execution_count": 70,
     "metadata": {},
     "output_type": "execute_result"
    }
   ],
   "source": [
    "# Import GridSearchCV\n",
    "from sklearn.model_selection import GridSearchCV\n",
    "\n",
    "# Find the best parameters for the model\n",
    "parameters = {\n",
    " 'alpha': [0.01, 0.02, 0.03, 0.04, 0.05, 0.06, 0.07, 0.08, 0.09, 0.1, 0.2, 0.3, 0.4, 0.5, 0.6, 0.7, 0.8, 0.9, 1.0]\n",
    "}\n",
    "\n",
    "lasso = GridSearchCV(model_lasso, parameters, cv = 3, n_jobs = -1, verbose = 1)\n",
    "lasso.fit(train_data_to_model_energy, train_SiteEnergyUseWN)\n",
    "lasso.best_params_"
   ]
  },
  {
   "cell_type": "markdown",
   "id": "6d915cd2",
   "metadata": {},
   "source": [
    "alpha = 0.01 est le meilleur choix"
   ]
  },
  {
   "cell_type": "markdown",
   "id": "2e5f5e4c",
   "metadata": {},
   "source": [
    "## XGBoost regression"
   ]
  },
  {
   "cell_type": "code",
   "execution_count": 71,
   "id": "e6c402a2",
   "metadata": {},
   "outputs": [],
   "source": [
    "# SiteEnergyUseWN(kBtu) sont les valeurs que nous voulons prédire\n",
    "SiteEnergyUseWN = np.array(data['SiteEnergyUseWN(kBtu)'])"
   ]
  },
  {
   "cell_type": "code",
   "execution_count": 72,
   "id": "4743ad28",
   "metadata": {},
   "outputs": [],
   "source": [
    "# Eliminer SiteEnergyUseWN(kBtu) de data\n",
    "data_to_model_energy = data.drop(['SiteEnergyUseWN(kBtu)', 'SiteEnergyUse(kBtu)', 'NaturalGas(kBtu)', 'Electricity(kBtu)', 'SteamUse(kBtu)', 'SiteEUI(kBtu/sf)', 'SiteEUIWN(kBtu/sf)', 'SourceEUI(kBtu/sf)', 'TotalGHGEmissions', 'GHGEmissionsIntensity'], axis = 1)"
   ]
  },
  {
   "cell_type": "code",
   "execution_count": 73,
   "id": "f205e435",
   "metadata": {},
   "outputs": [],
   "source": [
    "# Enregistrement des noms de colonnes pour une utilisation ultérieure\n",
    "data_to_model_energy_list = list(data_to_model_energy.columns)"
   ]
  },
  {
   "cell_type": "code",
   "execution_count": 74,
   "id": "870ced96",
   "metadata": {},
   "outputs": [],
   "source": [
    "# Convertir en numpy array\n",
    "data_to_model_energy = np.array(data_to_model_energy)"
   ]
  },
  {
   "cell_type": "code",
   "execution_count": 75,
   "id": "169b501a",
   "metadata": {},
   "outputs": [],
   "source": [
    "# Using Skicit-learn to split data into training and testing sets\n",
    "from sklearn.model_selection import train_test_split"
   ]
  },
  {
   "cell_type": "code",
   "execution_count": 76,
   "id": "744e011b",
   "metadata": {},
   "outputs": [],
   "source": [
    "# Split the data into training and testing sets\n",
    "train_data_to_model_energy, test_data_to_model_energy, train_SiteEnergyUseWN, test_SiteEnergyUseWN = train_test_split(data_to_model_energy, SiteEnergyUseWN, test_size = 0.25, random_state = 0)"
   ]
  },
  {
   "cell_type": "code",
   "execution_count": 77,
   "id": "368d8205",
   "metadata": {},
   "outputs": [
    {
     "name": "stdout",
     "output_type": "stream",
     "text": [
      "Training data_to_model_energy Shape: (1131, 132)\n",
      "Training SiteEnergyUseWN Shape: (1131,)\n",
      "Testing data_to_model_energy Shape: (377, 132)\n",
      "Testing SiteEnergyUseWN Shape: (377,)\n"
     ]
    }
   ],
   "source": [
    "print('Training data_to_model_energy Shape:', train_data_to_model_energy.shape)\n",
    "print('Training SiteEnergyUseWN Shape:', train_SiteEnergyUseWN.shape)\n",
    "print('Testing data_to_model_energy Shape:', test_data_to_model_energy.shape)\n",
    "print('Testing SiteEnergyUseWN Shape:', test_SiteEnergyUseWN.shape)"
   ]
  },
  {
   "cell_type": "code",
   "execution_count": 78,
   "id": "312e44db",
   "metadata": {},
   "outputs": [],
   "source": [
    "#!pip install xgboost"
   ]
  },
  {
   "cell_type": "code",
   "execution_count": 79,
   "id": "8dfab0eb",
   "metadata": {},
   "outputs": [],
   "source": [
    "import xgboost as xgb"
   ]
  },
  {
   "cell_type": "code",
   "execution_count": 80,
   "id": "c546a152",
   "metadata": {},
   "outputs": [],
   "source": [
    "regressor=xgb.XGBRegressor(eval_metric='rmsle')"
   ]
  },
  {
   "cell_type": "code",
   "execution_count": 81,
   "id": "560e2397",
   "metadata": {},
   "outputs": [
    {
     "data": {
      "text/plain": [
       "XGBRegressor(base_score=0.5, booster='gbtree', callbacks=None,\n",
       "             colsample_bylevel=1, colsample_bynode=1, colsample_bytree=1,\n",
       "             early_stopping_rounds=None, enable_categorical=False,\n",
       "             eval_metric='rmsle', gamma=0, gpu_id=-1, grow_policy='depthwise',\n",
       "             importance_type=None, interaction_constraints='',\n",
       "             learning_rate=0.300000012, max_bin=256, max_cat_to_onehot=4,\n",
       "             max_delta_step=0, max_depth=6, max_leaves=0, min_child_weight=1,\n",
       "             missing=nan, monotone_constraints='()', n_estimators=100, n_jobs=0,\n",
       "             num_parallel_tree=1, predictor='auto', random_state=0, reg_alpha=0,\n",
       "             reg_lambda=1, ...)"
      ]
     },
     "execution_count": 81,
     "metadata": {},
     "output_type": "execute_result"
    }
   ],
   "source": [
    "# Train the model on the training set\n",
    "regressor.fit(train_data_to_model_energy, train_SiteEnergyUseWN) "
   ]
  },
  {
   "cell_type": "code",
   "execution_count": 82,
   "id": "f3a5a569",
   "metadata": {},
   "outputs": [],
   "source": [
    "# Predictions on the training set\n",
    "pred_train_XGBRegressor= regressor.predict(train_data_to_model_energy)"
   ]
  },
  {
   "cell_type": "code",
   "execution_count": 83,
   "id": "1c79f373",
   "metadata": {},
   "outputs": [
    {
     "name": "stdout",
     "output_type": "stream",
     "text": [
      "512465.3162084914\n",
      "0.9992633994226502\n"
     ]
    }
   ],
   "source": [
    "# Evaluating the performance of the model on the training set\n",
    "print(np.sqrt(mean_squared_error(train_SiteEnergyUseWN,pred_train_XGBRegressor)))\n",
    "print(r2_score(train_SiteEnergyUseWN, pred_train_XGBRegressor))"
   ]
  },
  {
   "cell_type": "code",
   "execution_count": 84,
   "id": "19bc3fef",
   "metadata": {},
   "outputs": [],
   "source": [
    "# Prediction on the test set\n",
    "pred_test_XGBRegressor= regressor.predict(test_data_to_model_energy)"
   ]
  },
  {
   "cell_type": "code",
   "execution_count": 85,
   "id": "144be34c",
   "metadata": {},
   "outputs": [
    {
     "name": "stdout",
     "output_type": "stream",
     "text": [
      "11078815.160434067\n",
      "0.6688855810781629\n"
     ]
    }
   ],
   "source": [
    "# Evaluating the model on the test set\n",
    "print(np.sqrt(mean_squared_error(test_SiteEnergyUseWN,pred_test_XGBRegressor))) \n",
    "print(r2_score(test_SiteEnergyUseWN, pred_test_XGBRegressor))"
   ]
  },
  {
   "cell_type": "markdown",
   "id": "b74e8bfd",
   "metadata": {},
   "source": [
    "R^2 = 0.67 montre que l'algorithme XGBoost fonctionne plus ou moins bien dans la prédiction de la variable SiteEnergyUseWN mieux que Ridge et Lasso modeles"
   ]
  },
  {
   "cell_type": "code",
   "execution_count": 86,
   "id": "6b41b594",
   "metadata": {},
   "outputs": [
    {
     "name": "stdout",
     "output_type": "stream",
     "text": [
      "Mean Absolute Error: 3830528.98\n",
      "Mean Absolute Percentage Error: 5.208543418146634e+20\n"
     ]
    }
   ],
   "source": [
    "from sklearn.metrics import mean_absolute_error, mean_absolute_percentage_error\n",
    "\n",
    "\n",
    "# Mean absolute error (MAE)\n",
    "mae = mean_absolute_error(test_SiteEnergyUseWN, pred_test_XGBRegressor)\n",
    "mape = mean_absolute_percentage_error(test_SiteEnergyUseWN, pred_test_XGBRegressor)\n",
    "\n",
    "print('Mean Absolute Error:', round(mae, 2))\n",
    "print('Mean Absolute Percentage Error:', round(mape, 2))"
   ]
  },
  {
   "cell_type": "markdown",
   "id": "55589a7c",
   "metadata": {},
   "source": [
    "**Tuning**"
   ]
  },
  {
   "cell_type": "code",
   "execution_count": 87,
   "id": "0f065a59",
   "metadata": {},
   "outputs": [
    {
     "name": "stdout",
     "output_type": "stream",
     "text": [
      "Fitting 3 folds for each of 1215 candidates, totalling 3645 fits\n"
     ]
    },
    {
     "data": {
      "text/plain": [
       "{'colsample_bytree': 0.6,\n",
       " 'gamma': 0.5,\n",
       " 'max_depth': 3,\n",
       " 'n_estimators': 100,\n",
       " 'subsample': 1.0}"
      ]
     },
     "execution_count": 87,
     "metadata": {},
     "output_type": "execute_result"
    }
   ],
   "source": [
    "# Import GridSearchCV\n",
    "from sklearn.model_selection import GridSearchCV\n",
    "\n",
    "# Find the best parameters for the model\n",
    "parameters = {\n",
    "        #'min_child_weight': [1, 5, 10],\n",
    "        'gamma': [0.5, 1, 1.5, 2, 5],\n",
    "        'subsample': [0.6, 0.8, 1.0],\n",
    "        'colsample_bytree': [0.6, 0.8, 1.0],\n",
    "        'max_depth': [3, 4, 5],\n",
    "        'n_estimators': [100, 400, 500, 600, 700, 800, 900, 1000, 1100]\n",
    "        }\n",
    "\n",
    "xgboost = GridSearchCV(regressor, parameters, cv = 3, n_jobs = -1, verbose = 1)\n",
    "xgboost.fit(train_data_to_model_energy, train_SiteEnergyUseWN)\n",
    "xgboost.best_params_"
   ]
  },
  {
   "cell_type": "markdown",
   "id": "86fe1fc1",
   "metadata": {},
   "source": [
    "**New results**"
   ]
  },
  {
   "cell_type": "code",
   "execution_count": 88,
   "id": "7bece5a1",
   "metadata": {},
   "outputs": [],
   "source": [
    "regressor=xgb.XGBRegressor(eval_metric='rmsle', gamma = 0.5, max_depth = 3, n_estimators = 100, colsample_bytree = 0.6, subsample = 1.0)"
   ]
  },
  {
   "cell_type": "code",
   "execution_count": 89,
   "id": "e16d1537",
   "metadata": {},
   "outputs": [
    {
     "data": {
      "text/plain": [
       "XGBRegressor(base_score=0.5, booster='gbtree', callbacks=None,\n",
       "             colsample_bylevel=1, colsample_bynode=1, colsample_bytree=0.6,\n",
       "             early_stopping_rounds=None, enable_categorical=False,\n",
       "             eval_metric='rmsle', gamma=0.5, gpu_id=-1, grow_policy='depthwise',\n",
       "             importance_type=None, interaction_constraints='',\n",
       "             learning_rate=0.300000012, max_bin=256, max_cat_to_onehot=4,\n",
       "             max_delta_step=0, max_depth=3, max_leaves=0, min_child_weight=1,\n",
       "             missing=nan, monotone_constraints='()', n_estimators=100, n_jobs=0,\n",
       "             num_parallel_tree=1, predictor='auto', random_state=0, reg_alpha=0,\n",
       "             reg_lambda=1, ...)"
      ]
     },
     "execution_count": 89,
     "metadata": {},
     "output_type": "execute_result"
    }
   ],
   "source": [
    "# Train the model on the training set\n",
    "regressor.fit(train_data_to_model_energy, train_SiteEnergyUseWN) "
   ]
  },
  {
   "cell_type": "code",
   "execution_count": 90,
   "id": "7e32396f",
   "metadata": {},
   "outputs": [],
   "source": [
    "# Predictions on the training set\n",
    "pred_train_XGBRegressor= regressor.predict(train_data_to_model_energy)"
   ]
  },
  {
   "cell_type": "code",
   "execution_count": 91,
   "id": "ee48901b",
   "metadata": {},
   "outputs": [
    {
     "name": "stdout",
     "output_type": "stream",
     "text": [
      "2475190.8475840027\n",
      "0.9828161496930877\n"
     ]
    }
   ],
   "source": [
    "# Evaluating the performance of the model on the training set\n",
    "print(np.sqrt(mean_squared_error(train_SiteEnergyUseWN,pred_train_XGBRegressor)))\n",
    "print(r2_score(train_SiteEnergyUseWN, pred_train_XGBRegressor))"
   ]
  },
  {
   "cell_type": "code",
   "execution_count": 92,
   "id": "46e9dd02",
   "metadata": {},
   "outputs": [],
   "source": [
    "# Prediction on the test set\n",
    "pred_test_XGBRegressor= regressor.predict(test_data_to_model_energy)"
   ]
  },
  {
   "cell_type": "code",
   "execution_count": 93,
   "id": "401af9b6",
   "metadata": {},
   "outputs": [
    {
     "name": "stdout",
     "output_type": "stream",
     "text": [
      "10433088.586602185\n",
      "0.7063586244231861\n"
     ]
    }
   ],
   "source": [
    "# Evaluating the model on the test set\n",
    "print(np.sqrt(mean_squared_error(test_SiteEnergyUseWN,pred_test_XGBRegressor))) \n",
    "print(r2_score(test_SiteEnergyUseWN, pred_test_XGBRegressor))"
   ]
  },
  {
   "cell_type": "markdown",
   "id": "88c53778",
   "metadata": {},
   "source": [
    "Tuning des hyperparamètres a amélioré les performances du modèle\n",
    "\n",
    "On peut estimer l'importance des variables pour le meilleur modèle"
   ]
  },
  {
   "cell_type": "markdown",
   "id": "476540a6",
   "metadata": {},
   "source": [
    "**Importance des variables**"
   ]
  },
  {
   "cell_type": "code",
   "execution_count": 94,
   "id": "64701c13",
   "metadata": {},
   "outputs": [],
   "source": [
    "from sklearn.inspection import permutation_importance\n",
    "importances = list(regressor.feature_importances_)"
   ]
  },
  {
   "cell_type": "code",
   "execution_count": 95,
   "id": "38b5684f",
   "metadata": {},
   "outputs": [],
   "source": [
    "# List of tuples with variable and importance\n",
    "feature_importances = [(data_to_model_energy, round(importance, 2)) for data_to_model_energy, importance in zip(data_to_model_energy_list, importances)]"
   ]
  },
  {
   "cell_type": "code",
   "execution_count": 96,
   "id": "c29c5c18",
   "metadata": {},
   "outputs": [],
   "source": [
    "# Sort the feature importances by most important first\n",
    "feature_importances = sorted(feature_importances, key = lambda x: x[1], reverse = True)"
   ]
  },
  {
   "cell_type": "code",
   "execution_count": 97,
   "id": "17eb9f21",
   "metadata": {},
   "outputs": [
    {
     "name": "stdout",
     "output_type": "stream",
     "text": [
      "Variable: NumberofBuildings    Importance: 0.41999998688697815\n",
      "Variable: Hospital             Importance: 0.2199999988079071\n",
      "Variable: EAST                 Importance: 0.07000000029802322\n",
      "Variable: PropertyGFATotal     Importance: 0.05999999865889549\n",
      "Variable: NumberofFloors       Importance: 0.03999999910593033\n",
      "Variable: Office_second_largest_area_rate Importance: 0.03999999910593033\n",
      "Variable: Longitude            Importance: 0.009999999776482582\n",
      "Variable: LargestPropertyUseTypeGFA Importance: 0.009999999776482582\n",
      "Variable: SecondLargestPropertyUseTypeGFA Importance: 0.009999999776482582\n",
      "Variable: ThirdLargestPropertyUseTypeGFA Importance: 0.009999999776482582\n",
      "Variable: ENERGYSTARScore      Importance: 0.009999999776482582\n",
      "Variable: parking_area_rate    Importance: 0.009999999776482582\n",
      "Variable: Office_third_largest_area_rate Importance: 0.009999999776482582\n",
      "Variable: TotalUseTypeNumber   Importance: 0.009999999776482582\n",
      "Variable: Large Office         Importance: 0.009999999776482582\n",
      "Variable: Multifamily Housing  Importance: 0.009999999776482582\n",
      "Variable: Other/Specialty Hospital Importance: 0.009999999776482582\n",
      "Variable: Latitude             Importance: 0.0\n",
      "Variable: building_age         Importance: 0.0\n",
      "Variable: NonResidential       Importance: 0.0\n",
      "Variable: Nonresidential COS   Importance: 0.0\n",
      "Variable: Nonresidential WA    Importance: 0.0\n",
      "Variable: contain_parking      Importance: 0.0\n",
      "Variable: Office_largest_area_rate Importance: 0.0\n",
      "Variable: Non_Refrigerated_Warehouse_largest_area_rate Importance: 0.0\n",
      "Variable: Retail_Store_area_rate Importance: 0.0\n",
      "Variable: Other_largest_area_rate Importance: 0.0\n",
      "Variable: Hotel_largest_area_rate Importance: 0.0\n",
      "Variable: Worship_Facility_largest_area_rate Importance: 0.0\n",
      "Variable: Distribution_Center_largest_area_rate Importance: 0.0\n",
      "Variable: Medical_Office_largest_area_rate Importance: 0.0\n",
      "Variable: Supermarket_largest_area_rate Importance: 0.0\n",
      "Variable: K_12_School_largest_area_rate Importance: 0.0\n",
      "Variable: Recreation_largest_area_rate Importance: 0.0\n",
      "Variable: Retail_Store_second_largest_area_rate Importance: 0.0\n",
      "Variable: Other_second_largest_area_rate Importance: 0.0\n",
      "Variable: Restaurant_second_largest_area_rate Importance: 0.0\n",
      "Variable: Non_Refrigerated_Warehouse_second_largest_area_rate Importance: 0.0\n",
      "Variable: Retail_Store_third_largest_area_rate Importance: 0.0\n",
      "Variable: Other_third_largest_area_rate Importance: 0.0\n",
      "Variable: Restaurant_third_largest_area_rate Importance: 0.0\n",
      "Variable: building_age_type    Importance: 0.0\n",
      "Variable: Distribution Center  Importance: 0.0\n",
      "Variable: Hotel                Importance: 0.0\n",
      "Variable: K-12 School          Importance: 0.0\n",
      "Variable: Laboratory           Importance: 0.0\n",
      "Variable: Low-Rise Multifamily Importance: 0.0\n",
      "Variable: Medical Office       Importance: 0.0\n",
      "Variable: Mixed Use Property   Importance: 0.0\n",
      "Variable: Other                Importance: 0.0\n",
      "Variable: Refrigerated Warehouse Importance: 0.0\n",
      "Variable: Residence Hall       Importance: 0.0\n",
      "Variable: Restaurant           Importance: 0.0\n",
      "Variable: Retail Store         Importance: 0.0\n",
      "Variable: Self-Storage Facility Importance: 0.0\n",
      "Variable: Senior Care Community Importance: 0.0\n",
      "Variable: Small- and Mid-Sized Office Importance: 0.0\n",
      "Variable: Supermarket / Grocery Store Importance: 0.0\n",
      "Variable: University           Importance: 0.0\n",
      "Variable: Warehouse            Importance: 0.0\n",
      "Variable: Worship Facility     Importance: 0.0\n",
      "Variable: BALLARD              Importance: 0.0\n",
      "Variable: Ballard              Importance: 0.0\n",
      "Variable: CENTRAL              Importance: 0.0\n",
      "Variable: Central              Importance: 0.0\n",
      "Variable: DELRIDGE             Importance: 0.0\n",
      "Variable: DELRIDGE NEIGHBORHOODS Importance: 0.0\n",
      "Variable: DOWNTOWN             Importance: 0.0\n",
      "Variable: Delridge             Importance: 0.0\n",
      "Variable: GREATER DUWAMISH     Importance: 0.0\n",
      "Variable: LAKE UNION           Importance: 0.0\n",
      "Variable: MAGNOLIA / QUEEN ANNE Importance: 0.0\n",
      "Variable: NORTH                Importance: 0.0\n",
      "Variable: NORTHEAST            Importance: 0.0\n",
      "Variable: NORTHWEST            Importance: 0.0\n",
      "Variable: North                Importance: 0.0\n",
      "Variable: Northwest            Importance: 0.0\n",
      "Variable: SOUTHEAST            Importance: 0.0\n",
      "Variable: SOUTHWEST            Importance: 0.0\n",
      "Variable: Adult Education      Importance: 0.0\n",
      "Variable: Automobile Dealership Importance: 0.0\n",
      "Variable: Bank Branch          Importance: 0.0\n",
      "Variable: College/University   Importance: 0.0\n",
      "Variable: Courthouse           Importance: 0.0\n",
      "Variable: Data Center          Importance: 0.0\n",
      "Variable: Financial Office     Importance: 0.0\n",
      "Variable: Fire Station         Importance: 0.0\n",
      "Variable: Fitness Center/Health Club/Gym Importance: 0.0\n",
      "Variable: Food Service         Importance: 0.0\n",
      "Variable: Hospital (General Medical & Surgical) Importance: 0.0\n",
      "Variable: Library              Importance: 0.0\n",
      "Variable: Lifestyle Center     Importance: 0.0\n",
      "Variable: Manufacturing/Industrial Plant Importance: 0.0\n",
      "Variable: Movie Theater        Importance: 0.0\n",
      "Variable: Museum               Importance: 0.0\n",
      "Variable: Non-Refrigerated Warehouse Importance: 0.0\n",
      "Variable: Office               Importance: 0.0\n",
      "Variable: Other - Education    Importance: 0.0\n",
      "Variable: Other - Entertainment/Public Assembly Importance: 0.0\n",
      "Variable: Other - Lodging/Residential Importance: 0.0\n",
      "Variable: Other - Mall         Importance: 0.0\n",
      "Variable: Other - Public Services Importance: 0.0\n",
      "Variable: Other - Recreation   Importance: 0.0\n",
      "Variable: Other - Restaurant/Bar Importance: 0.0\n",
      "Variable: Other - Services     Importance: 0.0\n",
      "Variable: Other - Utility      Importance: 0.0\n",
      "Variable: Parking              Importance: 0.0\n",
      "Variable: Performing Arts      Importance: 0.0\n",
      "Variable: Personal Services (Health/Beauty, Dry Cleaning, etc) Importance: 0.0\n",
      "Variable: Police Station       Importance: 0.0\n",
      "Variable: Pre-school/Daycare   Importance: 0.0\n",
      "Variable: Prison/Incarceration Importance: 0.0\n",
      "Variable: Repair Services (Vehicle, Shoe, Locksmith, etc) Importance: 0.0\n",
      "Variable: Residence Hall/Dormitory Importance: 0.0\n",
      "Variable: Residential Care Facility Importance: 0.0\n",
      "Variable: Social/Meeting Hall  Importance: 0.0\n",
      "Variable: Strip Mall           Importance: 0.0\n",
      "Variable: Supermarket/Grocery Store Importance: 0.0\n",
      "Variable: Urgent Care/Clinic/Other Outpatient Importance: 0.0\n",
      "Variable: Wholesale Club/Supercenter Importance: 0.0\n",
      "Variable: Bar/Nightclub        Importance: 0.0\n",
      "Variable: Convenience Store without Gas Station Importance: 0.0\n",
      "Variable: Enclosed Mall        Importance: 0.0\n",
      "Variable: Food Sales           Importance: 0.0\n",
      "Variable: Swimming Pool        Importance: 0.0\n",
      "Variable: Vocational School    Importance: 0.0\n",
      "Variable: unknown              Importance: 0.0\n",
      "Variable: Fast Food Restaurant Importance: 0.0\n",
      "Variable: Other - Technology/Science Importance: 0.0\n",
      "Variable: Electricity_using    Importance: 0.0\n",
      "Variable: Natural_gas_using    Importance: 0.0\n",
      "Variable: Steam_using          Importance: 0.0\n"
     ]
    }
   ],
   "source": [
    "# Print out the feature and importances \n",
    "[print('Variable: {:20} Importance: {}'.format(*pair)) for pair in feature_importances];"
   ]
  },
  {
   "cell_type": "code",
   "execution_count": 98,
   "id": "c029043c",
   "metadata": {},
   "outputs": [],
   "source": [
    "# Import matplotlib for plotting and use magic command for Jupyter Notebooks\n",
    "import matplotlib.pyplot as plt"
   ]
  },
  {
   "cell_type": "code",
   "execution_count": 99,
   "id": "789d160a",
   "metadata": {},
   "outputs": [],
   "source": [
    "#pip install shap"
   ]
  },
  {
   "cell_type": "code",
   "execution_count": 100,
   "id": "852824f9",
   "metadata": {},
   "outputs": [],
   "source": [
    "import shap\n",
    "# Fits the explainer\n",
    "explainer = shap.Explainer(regressor.predict, test_data_to_model_energy)"
   ]
  },
  {
   "cell_type": "code",
   "execution_count": 101,
   "id": "b1c248fd",
   "metadata": {},
   "outputs": [
    {
     "name": "stderr",
     "output_type": "stream",
     "text": [
      "Permutation explainer: 378it [00:16,  9.92it/s]                                                                        \n"
     ]
    }
   ],
   "source": [
    "# Calculates the SHAP values - It takes some time\n",
    "shap_values = explainer(test_data_to_model_energy)"
   ]
  },
  {
   "cell_type": "code",
   "execution_count": 102,
   "id": "0ac54d13",
   "metadata": {},
   "outputs": [
    {
     "data": {
      "image/png": "[encoded data removed]",
      "text/plain": [
       "<Figure size 576x684 with 1 Axes>"
      ]
     },
     "metadata": {
      "needs_background": "light"
     },
     "output_type": "display_data"
    }
   ],
   "source": [
    "shap.summary_plot(shap_values, plot_type = 'bar', feature_names = data_to_model_energy_list)"
   ]
  },
  {
   "cell_type": "code",
   "execution_count": 103,
   "id": "0aa72f48",
   "metadata": {},
   "outputs": [],
   "source": [
    "#data.to_csv(\"data_modeling_P4.csv\")"
   ]
  }
 ],
 "metadata": {
  "kernelspec": {
   "display_name": "Python 3 (ipykernel)",
   "language": "python",
   "name": "python3"
  },
  "language_info": {
   "codemirror_mode": {
    "name": "ipython",
    "version": 3
   },
   "file_extension": ".py",
   "mimetype": "text/x-python",
   "name": "python",
   "nbconvert_exporter": "python",
   "pygments_lexer": "ipython3",
   "version": "3.9.7"
  }
 },
 "nbformat": 4,
 "nbformat_minor": 5
}
