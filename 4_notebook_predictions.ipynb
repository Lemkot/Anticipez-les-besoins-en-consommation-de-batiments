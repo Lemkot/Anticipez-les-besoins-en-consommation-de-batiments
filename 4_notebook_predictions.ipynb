{
 "cells": [
  {
   "cell_type": "markdown",
   "id": "15e11eaa",
   "metadata": {},
   "source": [
    "## Target TotalGHGEmissions¶"
   ]
  },
  {
   "cell_type": "code",
   "execution_count": 1,
   "id": "5c5f14a9",
   "metadata": {},
   "outputs": [],
   "source": [
    "# Importation des librairies\n",
    "\n",
    "\n",
    "import pandas as pd\n",
    "import matplotlib as mpl\n",
    "import matplotlib.pyplot as plt\n",
    "import seaborn as sns\n",
    "%matplotlib inline\n",
    "import numpy as np\n",
    "import matplotlib.patches as mpatches\n",
    "import matplotlib.gridspec as gridspec \n",
    "import statsmodels as stat\n",
    "from statsmodels.tsa.api import Holt\n",
    "from statsmodels.tools.sm_exceptions import ConvergenceWarning\n",
    "from sklearn.preprocessing import StandardScaler\n",
    "from sklearn.preprocessing import PowerTransformer\n",
    "\n",
    "from sklearn import model_selection\n",
    "from sklearn.linear_model import LinearRegression\n",
    "from sklearn.linear_model import Ridge\n",
    "from sklearn.linear_model import Lasso\n",
    "from sklearn.linear_model import ElasticNet\n",
    "from sklearn.neighbors import KNeighborsRegressor\n",
    "from sklearn.tree import DecisionTreeRegressor\n",
    "from sklearn.svm import SVR\n",
    "from sklearn.ensemble import RandomForestRegressor\n",
    "from sklearn.metrics import r2_score\n",
    "from sklearn.model_selection import train_test_split\n",
    "from sklearn.metrics import mean_squared_error\n",
    "from math import sqrt"
   ]
  },
  {
   "cell_type": "code",
   "execution_count": 2,
   "id": "430eb046",
   "metadata": {},
   "outputs": [],
   "source": [
    "data = pd.read_csv(\"data_modeling_P4.csv\", sep=\",\")"
   ]
  },
  {
   "cell_type": "code",
   "execution_count": 3,
   "id": "145cfbc7",
   "metadata": {},
   "outputs": [
    {
     "name": "stdout",
     "output_type": "stream",
     "text": [
      "Unnamed: 0\n",
      "Latitude\n",
      "Longitude\n",
      "NumberofBuildings\n",
      "NumberofFloors\n",
      "PropertyGFATotal\n",
      "LargestPropertyUseTypeGFA\n",
      "SecondLargestPropertyUseTypeGFA\n",
      "ThirdLargestPropertyUseTypeGFA\n",
      "ENERGYSTARScore\n",
      "SiteEUI(kBtu/sf)\n",
      "SiteEUIWN(kBtu/sf)\n",
      "SourceEUI(kBtu/sf)\n",
      "SiteEnergyUse(kBtu)\n",
      "SiteEnergyUseWN(kBtu)\n",
      "SteamUse(kBtu)\n",
      "Electricity(kBtu)\n",
      "NaturalGas(kBtu)\n",
      "TotalGHGEmissions\n",
      "GHGEmissionsIntensity\n",
      "building_age\n",
      "NonResidential\n",
      "Nonresidential COS\n",
      "Nonresidential WA\n",
      "contain_parking\n",
      "parking_area_rate\n",
      "Office_largest_area_rate\n",
      "Non_Refrigerated_Warehouse_largest_area_rate\n",
      "Retail_Store_area_rate\n",
      "Other_largest_area_rate\n",
      "Hotel_largest_area_rate\n",
      "Worship_Facility_largest_area_rate\n",
      "Distribution_Center_largest_area_rate\n",
      "Medical_Office_largest_area_rate\n",
      "Supermarket_largest_area_rate\n",
      "K_12_School_largest_area_rate\n",
      "Recreation_largest_area_rate\n",
      "Office_second_largest_area_rate\n",
      "Retail_Store_second_largest_area_rate\n",
      "Other_second_largest_area_rate\n",
      "Restaurant_second_largest_area_rate\n",
      "Non_Refrigerated_Warehouse_second_largest_area_rate\n",
      "Office_third_largest_area_rate\n",
      "Retail_Store_third_largest_area_rate\n",
      "Other_third_largest_area_rate\n",
      "Restaurant_third_largest_area_rate\n",
      "building_age_type\n",
      "TotalUseTypeNumber\n",
      "Distribution Center\n",
      "Hospital\n",
      "Hotel\n",
      "K-12 School\n",
      "Laboratory\n",
      "Large Office\n",
      "Low-Rise Multifamily\n",
      "Medical Office\n",
      "Mixed Use Property\n",
      "Other\n",
      "Refrigerated Warehouse\n",
      "Residence Hall\n",
      "Restaurant\n",
      "Retail Store\n",
      "Self-Storage Facility\n",
      "Senior Care Community\n",
      "Small- and Mid-Sized Office\n",
      "Supermarket / Grocery Store\n",
      "University\n",
      "Warehouse\n",
      "Worship Facility\n",
      "BALLARD\n",
      "Ballard\n",
      "CENTRAL\n",
      "Central\n",
      "DELRIDGE\n",
      "DELRIDGE NEIGHBORHOODS\n",
      "DOWNTOWN\n",
      "Delridge\n",
      "EAST\n",
      "GREATER DUWAMISH\n",
      "LAKE UNION\n",
      "MAGNOLIA / QUEEN ANNE\n",
      "NORTH\n",
      "NORTHEAST\n",
      "NORTHWEST\n",
      "North\n",
      "Northwest\n",
      "SOUTHEAST\n",
      "SOUTHWEST\n",
      "Adult Education\n",
      "Automobile Dealership\n",
      "Bank Branch\n",
      "College/University\n",
      "Courthouse\n",
      "Data Center\n",
      "Financial Office\n",
      "Fire Station\n",
      "Fitness Center/Health Club/Gym\n",
      "Food Service\n",
      "Hospital (General Medical & Surgical)\n",
      "Library\n",
      "Lifestyle Center\n",
      "Manufacturing/Industrial Plant\n",
      "Movie Theater\n",
      "Multifamily Housing\n",
      "Museum\n",
      "Non-Refrigerated Warehouse\n",
      "Office\n",
      "Other - Education\n",
      "Other - Entertainment/Public Assembly\n",
      "Other - Lodging/Residential\n",
      "Other - Mall\n",
      "Other - Public Services\n",
      "Other - Recreation\n",
      "Other - Restaurant/Bar\n",
      "Other - Services\n",
      "Other - Utility\n",
      "Other/Specialty Hospital\n",
      "Parking\n",
      "Performing Arts\n",
      "Personal Services (Health/Beauty, Dry Cleaning, etc)\n",
      "Police Station\n",
      "Pre-school/Daycare\n",
      "Prison/Incarceration\n",
      "Repair Services (Vehicle, Shoe, Locksmith, etc)\n",
      "Residence Hall/Dormitory\n",
      "Residential Care Facility\n",
      "Social/Meeting Hall\n",
      "Strip Mall\n",
      "Supermarket/Grocery Store\n",
      "Urgent Care/Clinic/Other Outpatient\n",
      "Wholesale Club/Supercenter\n",
      "Bar/Nightclub\n",
      "Convenience Store without Gas Station\n",
      "Enclosed Mall\n",
      "Food Sales\n",
      "Swimming Pool\n",
      "Vocational School\n",
      "unknown\n",
      "Fast Food Restaurant\n",
      "Other - Technology/Science\n",
      "Electricity_using\n",
      "Natural_gas_using\n",
      "Steam_using\n"
     ]
    }
   ],
   "source": [
    "for col in data.columns :\n",
    "    print(col)"
   ]
  },
  {
   "cell_type": "code",
   "execution_count": 4,
   "id": "5c3d0f58",
   "metadata": {},
   "outputs": [],
   "source": [
    "data = data.drop(['Unnamed: 0'], axis=1)"
   ]
  },
  {
   "cell_type": "markdown",
   "id": "85819023",
   "metadata": {},
   "source": [
    "**Model preparation**"
   ]
  },
  {
   "cell_type": "code",
   "execution_count": 5,
   "id": "58348662",
   "metadata": {},
   "outputs": [],
   "source": [
    "# TotalGHGEmissions sont les valeurs que nous voulons prédire\n",
    "TotalGHGEmissions = np.array(data['TotalGHGEmissions'])"
   ]
  },
  {
   "cell_type": "code",
   "execution_count": 6,
   "id": "fdd46c8c",
   "metadata": {},
   "outputs": [],
   "source": [
    "# Eliminer TotalGHGEmissions de data\n",
    "data_to_model_emission = data.drop(['SiteEnergyUseWN(kBtu)', 'SiteEnergyUse(kBtu)', 'NaturalGas(kBtu)', 'Electricity(kBtu)', 'SteamUse(kBtu)', 'SiteEUI(kBtu/sf)', 'SiteEUIWN(kBtu/sf)', 'SourceEUI(kBtu/sf)', 'TotalGHGEmissions', 'GHGEmissionsIntensity'], axis = 1)"
   ]
  },
  {
   "cell_type": "code",
   "execution_count": 7,
   "id": "8e1c7b93",
   "metadata": {},
   "outputs": [],
   "source": [
    "# Enregistrement des noms de colonnes pour une utilisation ultérieure\n",
    "data_to_model_emission_list = list(data_to_model_emission.columns)"
   ]
  },
  {
   "cell_type": "code",
   "execution_count": 8,
   "id": "862c1416",
   "metadata": {},
   "outputs": [],
   "source": [
    "# Convertir en numpy array\n",
    "data_to_model_emission = np.array(data_to_model_emission)"
   ]
  },
  {
   "cell_type": "markdown",
   "id": "89f3b8b6",
   "metadata": {},
   "source": [
    "**Training and Testing Sets**"
   ]
  },
  {
   "cell_type": "code",
   "execution_count": 9,
   "id": "a9d38a06",
   "metadata": {},
   "outputs": [],
   "source": [
    "# Using Skicit-learn to split data into training and testing sets\n",
    "from sklearn.model_selection import train_test_split"
   ]
  },
  {
   "cell_type": "code",
   "execution_count": 10,
   "id": "00dfb40e",
   "metadata": {},
   "outputs": [],
   "source": [
    "# Split the data into training and testing sets\n",
    "train_data_to_model_emission, test_data_to_model_emission, train_TotalGHGEmissions, test_TotalGHGEmissions = train_test_split(data_to_model_emission, TotalGHGEmissions, test_size = 0.25, random_state = 42)"
   ]
  },
  {
   "cell_type": "markdown",
   "id": "583a0263",
   "metadata": {},
   "source": [
    "Nous pouvons examiner la forme de toutes les données pour nous assurer que nous avons tout fait correctement."
   ]
  },
  {
   "cell_type": "code",
   "execution_count": 11,
   "id": "3cb037aa",
   "metadata": {},
   "outputs": [
    {
     "name": "stdout",
     "output_type": "stream",
     "text": [
      "Training data_to_model_emission Shape: (1131, 132)\n",
      "Training TotalGHGEmissions Shape: (1131,)\n",
      "Testing data_to_model_emission Shape: (377, 132)\n",
      "Testing TotalGHGEmissions Shape: (377,)\n"
     ]
    }
   ],
   "source": [
    "print('Training data_to_model_emission Shape:', train_data_to_model_emission.shape)\n",
    "print('Training TotalGHGEmissions Shape:', train_TotalGHGEmissions.shape)\n",
    "print('Testing data_to_model_emission Shape:', test_data_to_model_emission.shape)\n",
    "print('Testing TotalGHGEmissions Shape:', test_TotalGHGEmissions.shape)"
   ]
  },
  {
   "cell_type": "markdown",
   "id": "0389aa15",
   "metadata": {},
   "source": [
    "**Train Model**"
   ]
  },
  {
   "cell_type": "code",
   "execution_count": 12,
   "id": "02b2653e",
   "metadata": {},
   "outputs": [],
   "source": [
    "# Import the model we are using\n",
    "from sklearn.ensemble import RandomForestRegressor"
   ]
  },
  {
   "cell_type": "code",
   "execution_count": 13,
   "id": "4342256c",
   "metadata": {},
   "outputs": [],
   "source": [
    "# Instantiate model with 1000 decision trees\n",
    "rf = RandomForestRegressor(n_estimators = 1000, random_state = 42)"
   ]
  },
  {
   "cell_type": "code",
   "execution_count": 14,
   "id": "ab8f9a44",
   "metadata": {},
   "outputs": [
    {
     "data": {
      "text/plain": [
       "RandomForestRegressor(n_estimators=1000, random_state=42)"
      ]
     },
     "execution_count": 14,
     "metadata": {},
     "output_type": "execute_result"
    }
   ],
   "source": [
    "# Train the model on training data\n",
    "rf.fit(train_data_to_model_emission, train_TotalGHGEmissions)"
   ]
  },
  {
   "cell_type": "markdown",
   "id": "d27eaa8d",
   "metadata": {},
   "source": [
    "**Make Predictions on the Test Set**"
   ]
  },
  {
   "cell_type": "code",
   "execution_count": 15,
   "id": "6861a3e6",
   "metadata": {},
   "outputs": [],
   "source": [
    "# Use the forest's predict method on the test data\n",
    "predictions_emission = rf.predict(test_data_to_model_emission)"
   ]
  },
  {
   "cell_type": "markdown",
   "id": "c5f94e5e",
   "metadata": {},
   "source": [
    "**Evaluation of the model R^2**"
   ]
  },
  {
   "cell_type": "code",
   "execution_count": 16,
   "id": "bd8f43a3",
   "metadata": {},
   "outputs": [
    {
     "name": "stdout",
     "output_type": "stream",
     "text": [
      "R-squared scores: 0.31843\n"
     ]
    }
   ],
   "source": [
    "from sklearn.metrics import r2_score\n",
    "test_score = r2_score(test_TotalGHGEmissions, predictions_emission)\n",
    "\n",
    "print('R-squared scores:', round(test_score, 5))"
   ]
  },
  {
   "cell_type": "code",
   "execution_count": 17,
   "id": "c9b12e3a",
   "metadata": {},
   "outputs": [
    {
     "name": "stdout",
     "output_type": "stream",
     "text": [
      "Mean Absolute Error: 106.33\n",
      "Mean Absolute Percentage Error: 1.32\n"
     ]
    }
   ],
   "source": [
    "from sklearn.metrics import mean_absolute_error, mean_absolute_percentage_error\n",
    "\n",
    "\n",
    "# Mean absolute error (MAE)\n",
    "mae = mean_absolute_error(test_TotalGHGEmissions, predictions_emission)\n",
    "mape = mean_absolute_percentage_error(test_TotalGHGEmissions, predictions_emission)\n",
    "\n",
    "print('Mean Absolute Error:', round(mae, 2))\n",
    "print('Mean Absolute Percentage Error:', round(mape, 2))"
   ]
  },
  {
   "cell_type": "markdown",
   "id": "7482d2e5",
   "metadata": {},
   "source": [
    "**Tuning**"
   ]
  },
  {
   "cell_type": "code",
   "execution_count": 18,
   "id": "d19a545b",
   "metadata": {},
   "outputs": [
    {
     "name": "stdout",
     "output_type": "stream",
     "text": [
      "Fitting 3 folds for each of 220 candidates, totalling 660 fits\n"
     ]
    },
    {
     "data": {
      "text/plain": [
       "{'bootstrap': True,\n",
       " 'max_depth': 20,\n",
       " 'max_features': 'sqrt',\n",
       " 'n_estimators': 800}"
      ]
     },
     "execution_count": 18,
     "metadata": {},
     "output_type": "execute_result"
    }
   ],
   "source": [
    "# Import GridSearchCV\n",
    "from sklearn.model_selection import GridSearchCV\n",
    "\n",
    "# Find the best parameters for the model\n",
    "parameters = {\n",
    " 'bootstrap': [True, False],\n",
    " 'max_depth': [4, 5, 6, 7, 8, 10, 15, 20, 25, 30, None],\n",
    " 'max_features': ['auto', 'sqrt'],\n",
    " #'min_samples_leaf': [1, 2, 4],\n",
    " #'min_samples_split': [2, 5, 10],\n",
    " 'n_estimators': [600, 800, 1000, 1200, 1400]\n",
    "}\n",
    "\n",
    "gridforest = GridSearchCV(rf, parameters, cv = 3, n_jobs = -1, verbose = 1, scoring = 'r2')\n",
    "gridforest.fit(train_data_to_model_emission, train_TotalGHGEmissions)\n",
    "gridforest.best_params_"
   ]
  },
  {
   "cell_type": "markdown",
   "id": "b7f0cbcf",
   "metadata": {},
   "source": [
    "**New results**"
   ]
  },
  {
   "cell_type": "code",
   "execution_count": 19,
   "id": "a10170fb",
   "metadata": {},
   "outputs": [],
   "source": [
    "# Instantiate model with 1000 decision trees\n",
    "rf = RandomForestRegressor(n_estimators = 800, max_depth = 20, max_features = 'sqrt', bootstrap = True, random_state = 42)"
   ]
  },
  {
   "cell_type": "code",
   "execution_count": 21,
   "id": "47f02c4d",
   "metadata": {},
   "outputs": [
    {
     "data": {
      "text/plain": [
       "RandomForestRegressor(max_depth=20, max_features='sqrt', n_estimators=800,\n",
       "                      random_state=42)"
      ]
     },
     "execution_count": 21,
     "metadata": {},
     "output_type": "execute_result"
    }
   ],
   "source": [
    "# Train the model on training data\n",
    "rf.fit(train_data_to_model_emission, train_TotalGHGEmissions)"
   ]
  },
  {
   "cell_type": "markdown",
   "id": "dd18ec35",
   "metadata": {},
   "source": [
    "**Make Predictions on the Test Set**"
   ]
  },
  {
   "cell_type": "code",
   "execution_count": 22,
   "id": "647f2689",
   "metadata": {},
   "outputs": [],
   "source": [
    "# Use the forest's predict method on the test data\n",
    "predictions_emission = rf.predict(test_data_to_model_emission)"
   ]
  },
  {
   "cell_type": "markdown",
   "id": "67a230a2",
   "metadata": {},
   "source": [
    "**Evaluation of the model R^2**"
   ]
  },
  {
   "cell_type": "code",
   "execution_count": 23,
   "id": "f633c4a2",
   "metadata": {},
   "outputs": [
    {
     "name": "stdout",
     "output_type": "stream",
     "text": [
      "R-squared scores: 0.59568\n"
     ]
    }
   ],
   "source": [
    "from sklearn.metrics import r2_score\n",
    "test_score = r2_score(test_TotalGHGEmissions, predictions_emission)\n",
    "\n",
    "print('R-squared scores:', round(test_score, 5))"
   ]
  },
  {
   "cell_type": "markdown",
   "id": "d467812c",
   "metadata": {},
   "source": [
    "Lorsque les hyperparamètres sont ajustés, les performances du modèle s'améliorent considérablement"
   ]
  },
  {
   "cell_type": "markdown",
   "id": "3d368375",
   "metadata": {},
   "source": [
    "## Ridge Regression"
   ]
  },
  {
   "cell_type": "code",
   "execution_count": 24,
   "id": "b93e32cc",
   "metadata": {},
   "outputs": [],
   "source": [
    "# TotalGHGEmissions sont les valeurs que nous voulons prédire\n",
    "TotalGHGEmissions = np.array(data['TotalGHGEmissions'])"
   ]
  },
  {
   "cell_type": "code",
   "execution_count": 25,
   "id": "aac1446a",
   "metadata": {},
   "outputs": [],
   "source": [
    "# Eliminer TotalGHGEmissions de data\n",
    "data_to_model_emission = data.drop(['SiteEnergyUseWN(kBtu)', 'SiteEnergyUse(kBtu)', 'NaturalGas(kBtu)', 'Electricity(kBtu)', 'SteamUse(kBtu)', 'SiteEUI(kBtu/sf)', 'SiteEUIWN(kBtu/sf)', 'SourceEUI(kBtu/sf)', 'TotalGHGEmissions', 'GHGEmissionsIntensity'], axis = 1)"
   ]
  },
  {
   "cell_type": "code",
   "execution_count": 26,
   "id": "329b8903",
   "metadata": {},
   "outputs": [],
   "source": [
    "# Enregistrement des noms de colonnes pour une utilisation ultérieure\n",
    "data_to_model_emission_list = list(data_to_model_emission.columns)"
   ]
  },
  {
   "cell_type": "code",
   "execution_count": 27,
   "id": "ce666b3d",
   "metadata": {},
   "outputs": [],
   "source": [
    "# Convertir en numpy array\n",
    "data_to_model_emission = np.array(data_to_model_emission)"
   ]
  },
  {
   "cell_type": "markdown",
   "id": "4ceed74b",
   "metadata": {},
   "source": [
    "**Training and Testing Sets**"
   ]
  },
  {
   "cell_type": "code",
   "execution_count": 28,
   "id": "c6b08d10",
   "metadata": {},
   "outputs": [],
   "source": [
    "# Using Skicit-learn to split data into training and testing sets\n",
    "from sklearn.model_selection import train_test_split"
   ]
  },
  {
   "cell_type": "code",
   "execution_count": 29,
   "id": "b3cc252a",
   "metadata": {},
   "outputs": [],
   "source": [
    "# Split the data into training and testing sets\n",
    "train_data_to_model_emission, test_data_to_model_emission, train_TotalGHGEmissions, test_TotalGHGEmissions = train_test_split(data_to_model_emission, TotalGHGEmissions, test_size = 0.25, random_state = 42)"
   ]
  },
  {
   "cell_type": "code",
   "execution_count": 30,
   "id": "4102d1eb",
   "metadata": {},
   "outputs": [
    {
     "name": "stdout",
     "output_type": "stream",
     "text": [
      "Training data_to_model_emission Shape: (1131, 132)\n",
      "Training TotalGHGEmissions Shape: (1131,)\n",
      "Testing data_to_model_emission Shape: (377, 132)\n",
      "Testing TotalGHGEmissions Shape: (377,)\n"
     ]
    }
   ],
   "source": [
    "print('Training data_to_model_emission Shape:', train_data_to_model_emission.shape)\n",
    "print('Training TotalGHGEmissions Shape:', train_TotalGHGEmissions.shape)\n",
    "print('Testing data_to_model_emission Shape:', test_data_to_model_emission.shape)\n",
    "print('Testing TotalGHGEmissions Shape:', test_TotalGHGEmissions.shape)"
   ]
  },
  {
   "cell_type": "code",
   "execution_count": 31,
   "id": "43a717d8",
   "metadata": {},
   "outputs": [],
   "source": [
    "# Instantiate model with regularization coeficient alpha = 0.01\n",
    "rr = Ridge(alpha=0.01)"
   ]
  },
  {
   "cell_type": "code",
   "execution_count": 32,
   "id": "8d7d05ed",
   "metadata": {},
   "outputs": [
    {
     "data": {
      "text/plain": [
       "Ridge(alpha=0.01)"
      ]
     },
     "execution_count": 32,
     "metadata": {},
     "output_type": "execute_result"
    }
   ],
   "source": [
    "# Train the model on the X training set and target (Y) training set\n",
    "rr.fit(train_data_to_model_emission, train_TotalGHGEmissions)"
   ]
  },
  {
   "cell_type": "code",
   "execution_count": 33,
   "id": "a7f571b0",
   "metadata": {},
   "outputs": [],
   "source": [
    "# Calculate predicted values using the trained model\n",
    "pred_train_rr= rr.predict(train_data_to_model_emission)"
   ]
  },
  {
   "cell_type": "code",
   "execution_count": 34,
   "id": "a04571d8",
   "metadata": {},
   "outputs": [
    {
     "name": "stdout",
     "output_type": "stream",
     "text": [
      "287.4455586088598\n",
      "0.7873779871560911\n"
     ]
    }
   ],
   "source": [
    "# Evaluate the model on the training set\n",
    "print(np.sqrt(mean_squared_error(train_TotalGHGEmissions,pred_train_rr)))\n",
    "print(r2_score(train_TotalGHGEmissions, pred_train_rr))"
   ]
  },
  {
   "cell_type": "code",
   "execution_count": 35,
   "id": "494df178",
   "metadata": {},
   "outputs": [
    {
     "name": "stdout",
     "output_type": "stream",
     "text": [
      "370.76294085721116\n",
      "0.16882970329235403\n"
     ]
    }
   ],
   "source": [
    "# Evaluate the model on the test set\n",
    "pred_test_rr= rr.predict(test_data_to_model_emission)\n",
    "print(np.sqrt(mean_squared_error(test_TotalGHGEmissions,pred_test_rr))) \n",
    "print(r2_score(test_TotalGHGEmissions, pred_test_rr))"
   ]
  },
  {
   "cell_type": "markdown",
   "id": "d4d5e827",
   "metadata": {},
   "source": [
    "Ridge regression algorithm ne fonctionne pas bien dans la prédiction de la variable TotalGHGEmissions"
   ]
  },
  {
   "cell_type": "markdown",
   "id": "289c217d",
   "metadata": {},
   "source": [
    "**Tunning**"
   ]
  },
  {
   "cell_type": "code",
   "execution_count": 36,
   "id": "000017b3",
   "metadata": {},
   "outputs": [
    {
     "name": "stdout",
     "output_type": "stream",
     "text": [
      "Fitting 3 folds for each of 19 candidates, totalling 57 fits\n"
     ]
    },
    {
     "data": {
      "text/plain": [
       "{'alpha': 1.0}"
      ]
     },
     "execution_count": 36,
     "metadata": {},
     "output_type": "execute_result"
    }
   ],
   "source": [
    "# Import GridSearchCV\n",
    "from sklearn.model_selection import GridSearchCV\n",
    "\n",
    "# Find the best parameters for the model\n",
    "parameters = {\n",
    " 'alpha': [0.01, 0.02, 0.03, 0.04, 0.05, 0.06, 0.07, 0.08, 0.09, 0.1, 0.2, 0.3, 0.4, 0.5, 0.6, 0.7, 0.8, 0.9, 1.0]\n",
    "}\n",
    "\n",
    "ridge = GridSearchCV(rr, parameters, cv = 3, n_jobs = -1, verbose = 1)\n",
    "ridge.fit(train_data_to_model_emission, train_TotalGHGEmissions)\n",
    "ridge.best_params_"
   ]
  },
  {
   "cell_type": "code",
   "execution_count": 37,
   "id": "c7e989fa",
   "metadata": {},
   "outputs": [],
   "source": [
    "# Instantiate model with regularization coeficient alpha = 1.0\n",
    "rr_tuned = Ridge(alpha=1.0)"
   ]
  },
  {
   "cell_type": "code",
   "execution_count": 38,
   "id": "b48a462f",
   "metadata": {},
   "outputs": [
    {
     "data": {
      "text/plain": [
       "Ridge()"
      ]
     },
     "execution_count": 38,
     "metadata": {},
     "output_type": "execute_result"
    }
   ],
   "source": [
    "# Train the model on the X training set and target (Y) training set\n",
    "rr_tuned.fit(train_data_to_model_emission, train_TotalGHGEmissions) "
   ]
  },
  {
   "cell_type": "code",
   "execution_count": 39,
   "id": "b6c3ec0a",
   "metadata": {},
   "outputs": [],
   "source": [
    "# Calculate predicted values using the trained model\n",
    "pred_train_rr_tuned= rr_tuned.predict(train_data_to_model_emission)"
   ]
  },
  {
   "cell_type": "code",
   "execution_count": 40,
   "id": "2e81d153",
   "metadata": {},
   "outputs": [
    {
     "name": "stdout",
     "output_type": "stream",
     "text": [
      "292.77264761800427\n",
      "0.7794241201436963\n"
     ]
    }
   ],
   "source": [
    "# Evaluate the model on the training set\n",
    "print(np.sqrt(mean_squared_error(train_TotalGHGEmissions,pred_train_rr_tuned)))\n",
    "print(r2_score(train_TotalGHGEmissions, pred_train_rr_tuned))"
   ]
  },
  {
   "cell_type": "code",
   "execution_count": 41,
   "id": "136db79e",
   "metadata": {},
   "outputs": [
    {
     "name": "stdout",
     "output_type": "stream",
     "text": [
      "361.67290439629\n",
      "0.20908588628890745\n"
     ]
    }
   ],
   "source": [
    "# Evaluate the model on the test set\n",
    "pred_test_rr_tuned= rr_tuned.predict(test_data_to_model_emission)\n",
    "print(np.sqrt(mean_squared_error(test_TotalGHGEmissions,pred_test_rr_tuned))) \n",
    "print(r2_score(test_TotalGHGEmissions, pred_test_rr_tuned))"
   ]
  },
  {
   "cell_type": "markdown",
   "id": "d0efd442",
   "metadata": {},
   "source": [
    "On peut remarquer que le modèle fonctionne un peu mieux quand on change alpha"
   ]
  },
  {
   "cell_type": "markdown",
   "id": "ff2ca4d1",
   "metadata": {},
   "source": [
    "## Lasso Regression\n",
    "\n",
    "Comme les algorithmes Ridge et Lasso sont similaires, on s'attend à ce qu'ils affichent des performances similaires"
   ]
  },
  {
   "cell_type": "code",
   "execution_count": 42,
   "id": "b7ac45e9",
   "metadata": {},
   "outputs": [],
   "source": [
    "# TotalGHGEmissions sont les valeurs que nous voulons prédire\n",
    "TotalGHGEmissions = np.array(data['TotalGHGEmissions'])"
   ]
  },
  {
   "cell_type": "code",
   "execution_count": 43,
   "id": "cb509889",
   "metadata": {},
   "outputs": [],
   "source": [
    "# Eliminer TotalGHGEmissions de data\n",
    "data_to_model_emission = data.drop(['SiteEnergyUseWN(kBtu)', 'SiteEnergyUse(kBtu)', 'NaturalGas(kBtu)', 'Electricity(kBtu)', 'SteamUse(kBtu)', 'SiteEUI(kBtu/sf)', 'SiteEUIWN(kBtu/sf)', 'SourceEUI(kBtu/sf)', 'TotalGHGEmissions', 'GHGEmissionsIntensity'], axis = 1)"
   ]
  },
  {
   "cell_type": "code",
   "execution_count": 44,
   "id": "8bb8242b",
   "metadata": {},
   "outputs": [],
   "source": [
    "# Enregistrement des noms de colonnes pour une utilisation ultérieure\n",
    "data_to_model_emission_list = list(data_to_model_emission.columns)"
   ]
  },
  {
   "cell_type": "code",
   "execution_count": 45,
   "id": "99885563",
   "metadata": {},
   "outputs": [],
   "source": [
    "# Convertir en numpy array\n",
    "data_to_model_emission = np.array(data_to_model_emission)"
   ]
  },
  {
   "cell_type": "markdown",
   "id": "15b86a27",
   "metadata": {},
   "source": [
    "**Training and Testing Sets**"
   ]
  },
  {
   "cell_type": "code",
   "execution_count": 46,
   "id": "f763b02e",
   "metadata": {},
   "outputs": [],
   "source": [
    "# Using Skicit-learn to split data into training and testing sets\n",
    "from sklearn.model_selection import train_test_split"
   ]
  },
  {
   "cell_type": "code",
   "execution_count": 47,
   "id": "1c86b9b2",
   "metadata": {},
   "outputs": [],
   "source": [
    "# Split the data into training and testing sets\n",
    "train_data_to_model_emission, test_data_to_model_emission, train_TotalGHGEmissions, test_TotalGHGEmissions = train_test_split(data_to_model_emission, TotalGHGEmissions, test_size = 0.25, random_state = 42)"
   ]
  },
  {
   "cell_type": "code",
   "execution_count": 48,
   "id": "dd69ae91",
   "metadata": {},
   "outputs": [
    {
     "name": "stdout",
     "output_type": "stream",
     "text": [
      "Training data_to_model_emission Shape: (1131, 132)\n",
      "Training TotalGHGEmissions Shape: (1131,)\n",
      "Testing data_to_model_emission Shape: (377, 132)\n",
      "Testing TotalGHGEmissions Shape: (377,)\n"
     ]
    }
   ],
   "source": [
    "print('Training data_to_model_emission Shape:', train_data_to_model_emission.shape)\n",
    "print('Training TotalGHGEmissions Shape:', train_TotalGHGEmissions.shape)\n",
    "print('Testing data_to_model_emission Shape:', test_data_to_model_emission.shape)\n",
    "print('Testing TotalGHGEmissions Shape:', test_TotalGHGEmissions.shape)"
   ]
  },
  {
   "cell_type": "code",
   "execution_count": 49,
   "id": "917fb4aa",
   "metadata": {},
   "outputs": [],
   "source": [
    "# Lasso model with alpha = 0.01\n",
    "model_lasso = Lasso(alpha=0.01)"
   ]
  },
  {
   "cell_type": "code",
   "execution_count": 50,
   "id": "ad162793",
   "metadata": {},
   "outputs": [
    {
     "name": "stderr",
     "output_type": "stream",
     "text": [
      "C:\\Openclassrooms\\P2\\lib\\site-packages\\sklearn\\linear_model\\_coordinate_descent.py:530: ConvergenceWarning: Objective did not converge. You might want to increase the number of iterations. Duality gap: 46142251.522155926, tolerance: 43950.67860308579\n",
      "  model = cd_fast.enet_coordinate_descent(\n"
     ]
    },
    {
     "data": {
      "text/plain": [
       "Lasso(alpha=0.01)"
      ]
     },
     "execution_count": 50,
     "metadata": {},
     "output_type": "execute_result"
    }
   ],
   "source": [
    "# Train the model on the training set\n",
    "model_lasso.fit(train_data_to_model_emission, train_TotalGHGEmissions) "
   ]
  },
  {
   "cell_type": "code",
   "execution_count": 51,
   "id": "ceec052b",
   "metadata": {},
   "outputs": [],
   "source": [
    "# Predictions on the training set\n",
    "pred_train_lasso= model_lasso.predict(train_data_to_model_emission)"
   ]
  },
  {
   "cell_type": "code",
   "execution_count": 52,
   "id": "4ed55a98",
   "metadata": {},
   "outputs": [
    {
     "name": "stdout",
     "output_type": "stream",
     "text": [
      "287.46244068570894\n",
      "0.7873530112504886\n"
     ]
    }
   ],
   "source": [
    "# Evaluating the performance of the model on the training set\n",
    "print(np.sqrt(mean_squared_error(train_TotalGHGEmissions,pred_train_lasso)))\n",
    "print(r2_score(train_TotalGHGEmissions, pred_train_lasso))"
   ]
  },
  {
   "cell_type": "code",
   "execution_count": 53,
   "id": "5889735c",
   "metadata": {},
   "outputs": [],
   "source": [
    "# Prediction on the test set\n",
    "pred_test_lasso= model_lasso.predict(test_data_to_model_emission)"
   ]
  },
  {
   "cell_type": "code",
   "execution_count": 54,
   "id": "156d89db",
   "metadata": {},
   "outputs": [
    {
     "name": "stdout",
     "output_type": "stream",
     "text": [
      "369.5678731454725\n",
      "0.1741792343933546\n"
     ]
    }
   ],
   "source": [
    "# Evaluating the model on the test set\n",
    "print(np.sqrt(mean_squared_error(test_TotalGHGEmissions,pred_test_lasso))) \n",
    "print(r2_score(test_TotalGHGEmissions, pred_test_lasso))"
   ]
  },
  {
   "cell_type": "markdown",
   "id": "5e845273",
   "metadata": {},
   "source": [
    "R^2 = 0.17 montre que l'algorithme Lasso ne fonctionne pas bien dans la prédiction de la variable TotalGHGEmissions.\n",
    "\n",
    "Cette valeur de R^2 est proche de celle montrée par l'algorithme Ridge pour la même variable TotalGHGEmissions."
   ]
  },
  {
   "cell_type": "code",
   "execution_count": 55,
   "id": "ed847de4",
   "metadata": {},
   "outputs": [
    {
     "name": "stdout",
     "output_type": "stream",
     "text": [
      "Mean Absolute Error: 170.75\n",
      "Mean Absolute Percentage Error: 5.27\n"
     ]
    }
   ],
   "source": [
    "from sklearn.metrics import mean_absolute_error, mean_absolute_percentage_error\n",
    "\n",
    "\n",
    "# Mean absolute error (MAE)\n",
    "mae = mean_absolute_error(test_TotalGHGEmissions, pred_test_lasso)\n",
    "mape = mean_absolute_percentage_error(test_TotalGHGEmissions, pred_test_lasso)\n",
    "\n",
    "print('Mean Absolute Error:', round(mae, 2))\n",
    "print('Mean Absolute Percentage Error:', round(mape, 2))"
   ]
  },
  {
   "cell_type": "markdown",
   "id": "b498808d",
   "metadata": {},
   "source": [
    "**Tuning**"
   ]
  },
  {
   "cell_type": "code",
   "execution_count": 56,
   "id": "296b129a",
   "metadata": {},
   "outputs": [
    {
     "name": "stdout",
     "output_type": "stream",
     "text": [
      "Fitting 3 folds for each of 19 candidates, totalling 57 fits\n"
     ]
    },
    {
     "data": {
      "text/plain": [
       "{'alpha': 1.0}"
      ]
     },
     "execution_count": 56,
     "metadata": {},
     "output_type": "execute_result"
    }
   ],
   "source": [
    "# Import GridSearchCV\n",
    "from sklearn.model_selection import GridSearchCV\n",
    "\n",
    "# Find the best parameters for the model\n",
    "parameters = {\n",
    " 'alpha': [0.01, 0.02, 0.03, 0.04, 0.05, 0.06, 0.07, 0.08, 0.09, 0.1, 0.2, 0.3, 0.4, 0.5, 0.6, 0.7, 0.8, 0.9, 1.0]\n",
    "}\n",
    "\n",
    "lasso = GridSearchCV(model_lasso, parameters, cv = 3, n_jobs = -1, verbose = 1)\n",
    "lasso.fit(train_data_to_model_emission, train_TotalGHGEmissions)\n",
    "lasso.best_params_"
   ]
  },
  {
   "cell_type": "markdown",
   "id": "949380ed",
   "metadata": {},
   "source": [
    "On vas esseyer le hyperparameter alhpa = 1.0"
   ]
  },
  {
   "cell_type": "code",
   "execution_count": 57,
   "id": "3b22e2b7",
   "metadata": {},
   "outputs": [],
   "source": [
    "# Lasso model with alpha = 1.0\n",
    "model_lasso_tuned = Lasso(alpha=1.0)"
   ]
  },
  {
   "cell_type": "code",
   "execution_count": 58,
   "id": "be9b299c",
   "metadata": {},
   "outputs": [
    {
     "data": {
      "text/plain": [
       "Lasso()"
      ]
     },
     "execution_count": 58,
     "metadata": {},
     "output_type": "execute_result"
    }
   ],
   "source": [
    "# Train the model on the training set\n",
    "model_lasso_tuned.fit(train_data_to_model_emission, train_TotalGHGEmissions) "
   ]
  },
  {
   "cell_type": "code",
   "execution_count": 59,
   "id": "befdbb1c",
   "metadata": {},
   "outputs": [],
   "source": [
    "# Predictions on the training set\n",
    "pred_train_lasso_tuned= model_lasso_tuned.predict(train_data_to_model_emission)"
   ]
  },
  {
   "cell_type": "code",
   "execution_count": 60,
   "id": "aada882f",
   "metadata": {},
   "outputs": [
    {
     "name": "stdout",
     "output_type": "stream",
     "text": [
      "299.69138735361287\n",
      "0.7688757343340166\n"
     ]
    }
   ],
   "source": [
    "# Evaluating the performance of the model on the training set\n",
    "print(np.sqrt(mean_squared_error(train_TotalGHGEmissions,pred_train_lasso_tuned)))\n",
    "print(r2_score(train_TotalGHGEmissions, pred_train_lasso_tuned))"
   ]
  },
  {
   "cell_type": "code",
   "execution_count": 61,
   "id": "7201f561",
   "metadata": {},
   "outputs": [],
   "source": [
    "# Prediction on the test set\n",
    "pred_test_lasso_tuned= model_lasso_tuned.predict(test_data_to_model_emission)"
   ]
  },
  {
   "cell_type": "code",
   "execution_count": 62,
   "id": "511c491c",
   "metadata": {},
   "outputs": [
    {
     "name": "stdout",
     "output_type": "stream",
     "text": [
      "351.5134738368213\n",
      "0.2528955363176105\n"
     ]
    }
   ],
   "source": [
    "# Evaluating the model on the test set\n",
    "print(np.sqrt(mean_squared_error(test_TotalGHGEmissions,pred_test_lasso_tuned)))\n",
    "print(r2_score(test_TotalGHGEmissions, pred_test_lasso_tuned))"
   ]
  },
  {
   "cell_type": "code",
   "execution_count": 63,
   "id": "0d29fbd0",
   "metadata": {},
   "outputs": [
    {
     "name": "stdout",
     "output_type": "stream",
     "text": [
      "Mean Absolute Error: 158.34\n",
      "Mean Absolute Percentage Error: 4.8\n"
     ]
    }
   ],
   "source": [
    "from sklearn.metrics import mean_absolute_error, mean_absolute_percentage_error\n",
    "\n",
    "\n",
    "# Mean absolute error (MAE)\n",
    "mae = mean_absolute_error(test_TotalGHGEmissions, pred_test_lasso_tuned)\n",
    "mape = mean_absolute_percentage_error(test_TotalGHGEmissions, pred_test_lasso_tuned)\n",
    "\n",
    "print('Mean Absolute Error:', round(mae, 2))\n",
    "print('Mean Absolute Percentage Error:', round(mape, 2))"
   ]
  },
  {
   "cell_type": "markdown",
   "id": "a5fdf131",
   "metadata": {},
   "source": [
    "**Conclusion**\n",
    "\n",
    "Les performances des 2 modèles se ressemblent"
   ]
  },
  {
   "cell_type": "markdown",
   "id": "4e54aeae",
   "metadata": {},
   "source": [
    "## XGBoost regression"
   ]
  },
  {
   "cell_type": "code",
   "execution_count": 64,
   "id": "ea9ef4a7",
   "metadata": {},
   "outputs": [],
   "source": [
    "# TotalGHGEmissions sont les valeurs que nous voulons prédire\n",
    "TotalGHGEmissions = np.array(data['TotalGHGEmissions'])"
   ]
  },
  {
   "cell_type": "code",
   "execution_count": 65,
   "id": "fd6e53bd",
   "metadata": {},
   "outputs": [],
   "source": [
    "# Eliminer TotalGHGEmissions de data\n",
    "data_to_model_emission = data.drop(['SiteEnergyUseWN(kBtu)', 'SiteEnergyUse(kBtu)', 'NaturalGas(kBtu)', 'Electricity(kBtu)', 'SteamUse(kBtu)', 'SiteEUI(kBtu/sf)', 'SiteEUIWN(kBtu/sf)', 'SourceEUI(kBtu/sf)', 'TotalGHGEmissions', 'GHGEmissionsIntensity'], axis = 1)"
   ]
  },
  {
   "cell_type": "code",
   "execution_count": 66,
   "id": "b5656770",
   "metadata": {},
   "outputs": [],
   "source": [
    "# Enregistrement des noms de colonnes pour une utilisation ultérieure\n",
    "data_to_model_emission_list = list(data_to_model_emission.columns)"
   ]
  },
  {
   "cell_type": "code",
   "execution_count": 67,
   "id": "b10e7691",
   "metadata": {},
   "outputs": [],
   "source": [
    "# Convertir en numpy array\n",
    "data_to_model_emission = np.array(data_to_model_emission)"
   ]
  },
  {
   "cell_type": "markdown",
   "id": "b22f99a7",
   "metadata": {},
   "source": [
    "**Training and Testing Sets**"
   ]
  },
  {
   "cell_type": "code",
   "execution_count": 68,
   "id": "7e665e66",
   "metadata": {},
   "outputs": [],
   "source": [
    "# Using Skicit-learn to split data into training and testing sets\n",
    "from sklearn.model_selection import train_test_split"
   ]
  },
  {
   "cell_type": "code",
   "execution_count": 69,
   "id": "8ebac8e1",
   "metadata": {},
   "outputs": [],
   "source": [
    "# Split the data into training and testing sets\n",
    "train_data_to_model_emission, test_data_to_model_emission, train_TotalGHGEmissions, test_TotalGHGEmissions = train_test_split(data_to_model_emission, TotalGHGEmissions, test_size = 0.25, random_state = 42)"
   ]
  },
  {
   "cell_type": "code",
   "execution_count": 70,
   "id": "47d069dd",
   "metadata": {},
   "outputs": [
    {
     "name": "stdout",
     "output_type": "stream",
     "text": [
      "Training data_to_model_emission Shape: (1131, 132)\n",
      "Training TotalGHGEmissions Shape: (1131,)\n",
      "Testing data_to_model_emission Shape: (377, 132)\n",
      "Testing TotalGHGEmissions Shape: (377,)\n"
     ]
    }
   ],
   "source": [
    "print('Training data_to_model_emission Shape:', train_data_to_model_emission.shape)\n",
    "print('Training TotalGHGEmissions Shape:', train_TotalGHGEmissions.shape)\n",
    "print('Testing data_to_model_emission Shape:', test_data_to_model_emission.shape)\n",
    "print('Testing TotalGHGEmissions Shape:', test_TotalGHGEmissions.shape)"
   ]
  },
  {
   "cell_type": "code",
   "execution_count": 72,
   "id": "abccc721",
   "metadata": {},
   "outputs": [],
   "source": [
    "import xgboost as xgb"
   ]
  },
  {
   "cell_type": "code",
   "execution_count": 73,
   "id": "e15cdb51",
   "metadata": {},
   "outputs": [],
   "source": [
    "regressor = xgb.XGBRegressor(eval_metric='rmsle', colsample_bytree = 0.5, gamma = 0.5, max_depth = 5, min_child_weight = 5, subsample = 0.7, n_estimators=100, learning_rate=0.3)"
   ]
  },
  {
   "cell_type": "code",
   "execution_count": 74,
   "id": "c05e1434",
   "metadata": {},
   "outputs": [
    {
     "data": {
      "text/plain": [
       "XGBRegressor(base_score=0.5, booster='gbtree', callbacks=None,\n",
       "             colsample_bylevel=1, colsample_bynode=1, colsample_bytree=0.5,\n",
       "             early_stopping_rounds=None, enable_categorical=False,\n",
       "             eval_metric='rmsle', gamma=0.5, gpu_id=-1, grow_policy='depthwise',\n",
       "             importance_type=None, interaction_constraints='',\n",
       "             learning_rate=0.3, max_bin=256, max_cat_to_onehot=4,\n",
       "             max_delta_step=0, max_depth=5, max_leaves=0, min_child_weight=5,\n",
       "             missing=nan, monotone_constraints='()', n_estimators=100, n_jobs=0,\n",
       "             num_parallel_tree=1, predictor='auto', random_state=0, reg_alpha=0,\n",
       "             reg_lambda=1, ...)"
      ]
     },
     "execution_count": 74,
     "metadata": {},
     "output_type": "execute_result"
    }
   ],
   "source": [
    "# Train the model on the training set\n",
    "regressor.fit(train_data_to_model_emission, train_TotalGHGEmissions) "
   ]
  },
  {
   "cell_type": "code",
   "execution_count": 75,
   "id": "075976b0",
   "metadata": {},
   "outputs": [],
   "source": [
    "# Predictions on the training set\n",
    "pred_train_XGBRegressor= regressor.predict(train_data_to_model_emission)"
   ]
  },
  {
   "cell_type": "code",
   "execution_count": 76,
   "id": "3a55ae9a",
   "metadata": {},
   "outputs": [
    {
     "name": "stdout",
     "output_type": "stream",
     "text": [
      "74.78605242119882\n",
      "0.9856074336865508\n"
     ]
    }
   ],
   "source": [
    "# Evaluating the performance of the model on the training set\n",
    "print(np.sqrt(mean_squared_error(train_TotalGHGEmissions,pred_train_XGBRegressor)))\n",
    "print(r2_score(train_TotalGHGEmissions, pred_train_XGBRegressor))"
   ]
  },
  {
   "cell_type": "code",
   "execution_count": 77,
   "id": "81fec541",
   "metadata": {},
   "outputs": [],
   "source": [
    "# Prediction on the test set\n",
    "pred_test_XGBRegressor= regressor.predict(test_data_to_model_emission)"
   ]
  },
  {
   "cell_type": "code",
   "execution_count": 78,
   "id": "23fa369f",
   "metadata": {},
   "outputs": [
    {
     "name": "stdout",
     "output_type": "stream",
     "text": [
      "242.4553558296108\n",
      "0.6445643851401279\n"
     ]
    }
   ],
   "source": [
    "# Evaluating the model on the test set\n",
    "print(np.sqrt(mean_squared_error(test_TotalGHGEmissions,pred_test_XGBRegressor))) \n",
    "print(r2_score(test_TotalGHGEmissions, pred_test_XGBRegressor))"
   ]
  },
  {
   "cell_type": "code",
   "execution_count": 79,
   "id": "224f6f17",
   "metadata": {},
   "outputs": [
    {
     "name": "stdout",
     "output_type": "stream",
     "text": [
      "Mean Absolute Error: 122.65\n",
      "Mean Absolute Percentage Error: 3.35\n"
     ]
    }
   ],
   "source": [
    "from sklearn.metrics import mean_absolute_error, mean_absolute_percentage_error\n",
    "\n",
    "\n",
    "# Mean absolute error (MAE)\n",
    "mae = mean_absolute_error(test_TotalGHGEmissions, pred_test_XGBRegressor)\n",
    "mape = mean_absolute_percentage_error(test_TotalGHGEmissions, pred_test_XGBRegressor)\n",
    "\n",
    "print('Mean Absolute Error:', round(mae, 2))\n",
    "print('Mean Absolute Percentage Error:', round(mape, 2))"
   ]
  },
  {
   "cell_type": "markdown",
   "id": "144a0b36",
   "metadata": {},
   "source": [
    "Le modèle ne fonctionne plus ou mois bien pour la prédiction de la variable TotalGHGEmissions. XGBoost algorithme montre une meilleure précision par rapport aux autres modèles"
   ]
  },
  {
   "cell_type": "markdown",
   "id": "0128bb28",
   "metadata": {},
   "source": [
    "**Tuning**"
   ]
  },
  {
   "cell_type": "code",
   "execution_count": null,
   "id": "289a9647",
   "metadata": {},
   "outputs": [],
   "source": [
    "# Import GridSearchCV\n",
    "from sklearn.model_selection import GridSearchCV\n",
    "\n",
    "# Find the best parameters for the model\n",
    "parameters = {\n",
    "        'min_child_weight': [1, 5, 10],\n",
    "        'gamma': [0.5, 1, 1.5, 2],\n",
    "        'subsample': [0.6, 0.8, 1.0],\n",
    "        'colsample_bytree': [0.6, 0.8, 1.0],\n",
    "        'max_depth': [3, 4, 5],\n",
    "        'n_estimators': [100, 400, 600, 1000],\n",
    "        'learning_rate': [0.1, 0.3, 0.5]\n",
    "        }\n",
    "\n",
    "xgboost = GridSearchCV(regressor, parameters, cv = 3, n_jobs = -1, verbose = 1)\n",
    "xgboost.fit(train_data_to_model_emission, train_TotalGHGEmissions)"
   ]
  },
  {
   "cell_type": "markdown",
   "id": "5e7593d6",
   "metadata": {},
   "source": [
    "**New results**"
   ]
  },
  {
   "cell_type": "code",
   "execution_count": 82,
   "id": "9e501bdc",
   "metadata": {},
   "outputs": [],
   "source": [
    "regressor=xgb.XGBRegressor(eval_metric='rmsle', colsample_bytree = 0.6, gamma = 0.5, max_depth = 3, subsample = 0.6, n_estimators = 400, learning_rate = 0.1, min_child_weight = 5)"
   ]
  },
  {
   "cell_type": "code",
   "execution_count": 83,
   "id": "a49f70f0",
   "metadata": {},
   "outputs": [
    {
     "data": {
      "text/plain": [
       "XGBRegressor(base_score=0.5, booster='gbtree', callbacks=None,\n",
       "             colsample_bylevel=1, colsample_bynode=1, colsample_bytree=0.6,\n",
       "             early_stopping_rounds=None, enable_categorical=False,\n",
       "             eval_metric='rmsle', gamma=0.5, gpu_id=-1, grow_policy='depthwise',\n",
       "             importance_type=None, interaction_constraints='',\n",
       "             learning_rate=0.1, max_bin=256, max_cat_to_onehot=4,\n",
       "             max_delta_step=0, max_depth=3, max_leaves=0, min_child_weight=5,\n",
       "             missing=nan, monotone_constraints='()', n_estimators=400, n_jobs=0,\n",
       "             num_parallel_tree=1, predictor='auto', random_state=0, reg_alpha=0,\n",
       "             reg_lambda=1, ...)"
      ]
     },
     "execution_count": 83,
     "metadata": {},
     "output_type": "execute_result"
    }
   ],
   "source": [
    "# Train the model on the training set\n",
    "regressor.fit(train_data_to_model_emission, train_TotalGHGEmissions) "
   ]
  },
  {
   "cell_type": "code",
   "execution_count": 84,
   "id": "e46c4bfa",
   "metadata": {},
   "outputs": [],
   "source": [
    "# Predictions on the training set\n",
    "pred_train_XGBRegressor= regressor.predict(train_data_to_model_emission)"
   ]
  },
  {
   "cell_type": "code",
   "execution_count": 85,
   "id": "0ecc8ea2",
   "metadata": {},
   "outputs": [
    {
     "name": "stdout",
     "output_type": "stream",
     "text": [
      "109.74647550717049\n",
      "0.9690059604008303\n"
     ]
    }
   ],
   "source": [
    "# Evaluating the performance of the model on the training set\n",
    "print(np.sqrt(mean_squared_error(train_TotalGHGEmissions,pred_train_XGBRegressor)))\n",
    "print(r2_score(train_TotalGHGEmissions, pred_train_XGBRegressor))"
   ]
  },
  {
   "cell_type": "code",
   "execution_count": 86,
   "id": "ec9cab6d",
   "metadata": {},
   "outputs": [],
   "source": [
    "# Prediction on the test set\n",
    "pred_test_XGBRegressor= regressor.predict(test_data_to_model_emission)"
   ]
  },
  {
   "cell_type": "code",
   "execution_count": 87,
   "id": "ff1b0cff",
   "metadata": {},
   "outputs": [
    {
     "name": "stdout",
     "output_type": "stream",
     "text": [
      "245.1196477953607\n",
      "0.6367098474896347\n"
     ]
    }
   ],
   "source": [
    "# Evaluating the model on the test set\n",
    "print(np.sqrt(mean_squared_error(test_TotalGHGEmissions,pred_test_XGBRegressor))) \n",
    "print(r2_score(test_TotalGHGEmissions, pred_test_XGBRegressor))"
   ]
  },
  {
   "cell_type": "code",
   "execution_count": 88,
   "id": "fb890dfb",
   "metadata": {},
   "outputs": [
    {
     "name": "stdout",
     "output_type": "stream",
     "text": [
      "Mean Absolute Error: 110.07\n",
      "Mean Absolute Percentage Error: 2.43\n"
     ]
    }
   ],
   "source": [
    "from sklearn.metrics import mean_absolute_error, mean_absolute_percentage_error\n",
    "\n",
    "\n",
    "# Mean absolute error (MAE)\n",
    "mae = mean_absolute_error(test_TotalGHGEmissions, pred_test_XGBRegressor)\n",
    "mape = mean_absolute_percentage_error(test_TotalGHGEmissions, pred_test_XGBRegressor)\n",
    "\n",
    "print('Mean Absolute Error:', round(mae, 2))\n",
    "print('Mean Absolute Percentage Error:', round(mape, 2))"
   ]
  },
  {
   "cell_type": "markdown",
   "id": "b7ea8d35",
   "metadata": {},
   "source": [
    "Tuning des hyperparameters n'améliore pas les performances du modèle"
   ]
  },
  {
   "cell_type": "markdown",
   "id": "f8142669",
   "metadata": {},
   "source": [
    "On peut estimer l'importance des variables pour le meilleur modèle"
   ]
  },
  {
   "cell_type": "markdown",
   "id": "9a5b42e3",
   "metadata": {},
   "source": [
    "**Importance des variables**"
   ]
  },
  {
   "cell_type": "code",
   "execution_count": 89,
   "id": "0536cd93",
   "metadata": {},
   "outputs": [],
   "source": [
    "from sklearn.inspection import permutation_importance\n",
    "importances = list(regressor.feature_importances_)"
   ]
  },
  {
   "cell_type": "code",
   "execution_count": 90,
   "id": "37982b67",
   "metadata": {},
   "outputs": [],
   "source": [
    "# List of tuples with variable and importance\n",
    "feature_importances = [(data_to_model_emission, round(importance, 2)) for data_to_model_emission, importance in zip(data_to_model_emission_list, importances)]"
   ]
  },
  {
   "cell_type": "code",
   "execution_count": 91,
   "id": "6074d909",
   "metadata": {},
   "outputs": [],
   "source": [
    "# Sort the feature importances by most important first\n",
    "feature_importances = sorted(feature_importances, key = lambda x: x[1], reverse = True)"
   ]
  },
  {
   "cell_type": "code",
   "execution_count": 92,
   "id": "41835594",
   "metadata": {},
   "outputs": [
    {
     "name": "stdout",
     "output_type": "stream",
     "text": [
      "Variable: Hospital             Importance: 0.46000000834465027\n",
      "Variable: NumberofBuildings    Importance: 0.07000000029802322\n",
      "Variable: LargestPropertyUseTypeGFA Importance: 0.05000000074505806\n",
      "Variable: Large Office         Importance: 0.05000000074505806\n",
      "Variable: SecondLargestPropertyUseTypeGFA Importance: 0.029999999329447746\n",
      "Variable: PropertyGFATotal     Importance: 0.019999999552965164\n",
      "Variable: ENERGYSTARScore      Importance: 0.019999999552965164\n",
      "Variable: building_age         Importance: 0.019999999552965164\n",
      "Variable: Hotel_largest_area_rate Importance: 0.019999999552965164\n",
      "Variable: TotalUseTypeNumber   Importance: 0.019999999552965164\n",
      "Variable: Natural_gas_using    Importance: 0.019999999552965164\n",
      "Variable: Latitude             Importance: 0.009999999776482582\n",
      "Variable: Longitude            Importance: 0.009999999776482582\n",
      "Variable: NumberofFloors       Importance: 0.009999999776482582\n",
      "Variable: ThirdLargestPropertyUseTypeGFA Importance: 0.009999999776482582\n",
      "Variable: contain_parking      Importance: 0.009999999776482582\n",
      "Variable: parking_area_rate    Importance: 0.009999999776482582\n",
      "Variable: Office_largest_area_rate Importance: 0.009999999776482582\n",
      "Variable: Other_largest_area_rate Importance: 0.009999999776482582\n",
      "Variable: Medical_Office_largest_area_rate Importance: 0.009999999776482582\n",
      "Variable: Office_second_largest_area_rate Importance: 0.009999999776482582\n",
      "Variable: Retail_Store_third_largest_area_rate Importance: 0.009999999776482582\n",
      "Variable: Other_third_largest_area_rate Importance: 0.009999999776482582\n",
      "Variable: building_age_type    Importance: 0.009999999776482582\n",
      "Variable: Mixed Use Property   Importance: 0.009999999776482582\n",
      "Variable: Senior Care Community Importance: 0.009999999776482582\n",
      "Variable: Supermarket / Grocery Store Importance: 0.009999999776482582\n",
      "Variable: EAST                 Importance: 0.009999999776482582\n",
      "Variable: SOUTHWEST            Importance: 0.009999999776482582\n",
      "Variable: unknown              Importance: 0.009999999776482582\n",
      "Variable: Steam_using          Importance: 0.009999999776482582\n",
      "Variable: NonResidential       Importance: 0.0\n",
      "Variable: Nonresidential COS   Importance: 0.0\n",
      "Variable: Nonresidential WA    Importance: 0.0\n",
      "Variable: Non_Refrigerated_Warehouse_largest_area_rate Importance: 0.0\n",
      "Variable: Retail_Store_area_rate Importance: 0.0\n",
      "Variable: Worship_Facility_largest_area_rate Importance: 0.0\n",
      "Variable: Distribution_Center_largest_area_rate Importance: 0.0\n",
      "Variable: Supermarket_largest_area_rate Importance: 0.0\n",
      "Variable: K_12_School_largest_area_rate Importance: 0.0\n",
      "Variable: Recreation_largest_area_rate Importance: 0.0\n",
      "Variable: Retail_Store_second_largest_area_rate Importance: 0.0\n",
      "Variable: Other_second_largest_area_rate Importance: 0.0\n",
      "Variable: Restaurant_second_largest_area_rate Importance: 0.0\n",
      "Variable: Non_Refrigerated_Warehouse_second_largest_area_rate Importance: 0.0\n",
      "Variable: Office_third_largest_area_rate Importance: 0.0\n",
      "Variable: Restaurant_third_largest_area_rate Importance: 0.0\n",
      "Variable: Distribution Center  Importance: 0.0\n",
      "Variable: Hotel                Importance: 0.0\n",
      "Variable: K-12 School          Importance: 0.0\n",
      "Variable: Laboratory           Importance: 0.0\n",
      "Variable: Low-Rise Multifamily Importance: 0.0\n",
      "Variable: Medical Office       Importance: 0.0\n",
      "Variable: Other                Importance: 0.0\n",
      "Variable: Refrigerated Warehouse Importance: 0.0\n",
      "Variable: Residence Hall       Importance: 0.0\n",
      "Variable: Restaurant           Importance: 0.0\n",
      "Variable: Retail Store         Importance: 0.0\n",
      "Variable: Self-Storage Facility Importance: 0.0\n",
      "Variable: Small- and Mid-Sized Office Importance: 0.0\n",
      "Variable: University           Importance: 0.0\n",
      "Variable: Warehouse            Importance: 0.0\n",
      "Variable: Worship Facility     Importance: 0.0\n",
      "Variable: BALLARD              Importance: 0.0\n",
      "Variable: Ballard              Importance: 0.0\n",
      "Variable: CENTRAL              Importance: 0.0\n",
      "Variable: Central              Importance: 0.0\n",
      "Variable: DELRIDGE             Importance: 0.0\n",
      "Variable: DELRIDGE NEIGHBORHOODS Importance: 0.0\n",
      "Variable: DOWNTOWN             Importance: 0.0\n",
      "Variable: Delridge             Importance: 0.0\n",
      "Variable: GREATER DUWAMISH     Importance: 0.0\n",
      "Variable: LAKE UNION           Importance: 0.0\n",
      "Variable: MAGNOLIA / QUEEN ANNE Importance: 0.0\n",
      "Variable: NORTH                Importance: 0.0\n",
      "Variable: NORTHEAST            Importance: 0.0\n",
      "Variable: NORTHWEST            Importance: 0.0\n",
      "Variable: North                Importance: 0.0\n",
      "Variable: Northwest            Importance: 0.0\n",
      "Variable: SOUTHEAST            Importance: 0.0\n",
      "Variable: Adult Education      Importance: 0.0\n",
      "Variable: Automobile Dealership Importance: 0.0\n",
      "Variable: Bank Branch          Importance: 0.0\n",
      "Variable: College/University   Importance: 0.0\n",
      "Variable: Courthouse           Importance: 0.0\n",
      "Variable: Data Center          Importance: 0.0\n",
      "Variable: Financial Office     Importance: 0.0\n",
      "Variable: Fire Station         Importance: 0.0\n",
      "Variable: Fitness Center/Health Club/Gym Importance: 0.0\n",
      "Variable: Food Service         Importance: 0.0\n",
      "Variable: Hospital (General Medical & Surgical) Importance: 0.0\n",
      "Variable: Library              Importance: 0.0\n",
      "Variable: Lifestyle Center     Importance: 0.0\n",
      "Variable: Manufacturing/Industrial Plant Importance: 0.0\n",
      "Variable: Movie Theater        Importance: 0.0\n",
      "Variable: Multifamily Housing  Importance: 0.0\n",
      "Variable: Museum               Importance: 0.0\n",
      "Variable: Non-Refrigerated Warehouse Importance: 0.0\n",
      "Variable: Office               Importance: 0.0\n",
      "Variable: Other - Education    Importance: 0.0\n",
      "Variable: Other - Entertainment/Public Assembly Importance: 0.0\n",
      "Variable: Other - Lodging/Residential Importance: 0.0\n",
      "Variable: Other - Mall         Importance: 0.0\n",
      "Variable: Other - Public Services Importance: 0.0\n",
      "Variable: Other - Recreation   Importance: 0.0\n",
      "Variable: Other - Restaurant/Bar Importance: 0.0\n",
      "Variable: Other - Services     Importance: 0.0\n",
      "Variable: Other - Utility      Importance: 0.0\n",
      "Variable: Other/Specialty Hospital Importance: 0.0\n",
      "Variable: Parking              Importance: 0.0\n",
      "Variable: Performing Arts      Importance: 0.0\n",
      "Variable: Personal Services (Health/Beauty, Dry Cleaning, etc) Importance: 0.0\n",
      "Variable: Police Station       Importance: 0.0\n",
      "Variable: Pre-school/Daycare   Importance: 0.0\n",
      "Variable: Prison/Incarceration Importance: 0.0\n",
      "Variable: Repair Services (Vehicle, Shoe, Locksmith, etc) Importance: 0.0\n",
      "Variable: Residence Hall/Dormitory Importance: 0.0\n",
      "Variable: Residential Care Facility Importance: 0.0\n",
      "Variable: Social/Meeting Hall  Importance: 0.0\n",
      "Variable: Strip Mall           Importance: 0.0\n",
      "Variable: Supermarket/Grocery Store Importance: 0.0\n",
      "Variable: Urgent Care/Clinic/Other Outpatient Importance: 0.0\n",
      "Variable: Wholesale Club/Supercenter Importance: 0.0\n",
      "Variable: Bar/Nightclub        Importance: 0.0\n",
      "Variable: Convenience Store without Gas Station Importance: 0.0\n",
      "Variable: Enclosed Mall        Importance: 0.0\n",
      "Variable: Food Sales           Importance: 0.0\n",
      "Variable: Swimming Pool        Importance: 0.0\n",
      "Variable: Vocational School    Importance: 0.0\n",
      "Variable: Fast Food Restaurant Importance: 0.0\n",
      "Variable: Other - Technology/Science Importance: 0.0\n",
      "Variable: Electricity_using    Importance: 0.0\n"
     ]
    }
   ],
   "source": [
    "# Print out the feature and importances \n",
    "[print('Variable: {:20} Importance: {}'.format(*pair)) for pair in feature_importances];"
   ]
  },
  {
   "cell_type": "code",
   "execution_count": 93,
   "id": "eb6c1869",
   "metadata": {},
   "outputs": [],
   "source": [
    "# Import matplotlib for plotting and use magic command for Jupyter Notebooks\n",
    "import matplotlib.pyplot as plt"
   ]
  },
  {
   "cell_type": "code",
   "execution_count": 94,
   "id": "00d267e9",
   "metadata": {},
   "outputs": [
    {
     "name": "stderr",
     "output_type": "stream",
     "text": [
      "Permutation explainer: 378it [00:19, 10.24it/s]                                                                        \n"
     ]
    }
   ],
   "source": [
    "import shap\n",
    "# Fits the explainer\n",
    "explainer = shap.Explainer(regressor.predict, test_data_to_model_emission)\n",
    "# Calculates the SHAP values - It takes some time\n",
    "shap_values = explainer(test_data_to_model_emission)"
   ]
  },
  {
   "cell_type": "code",
   "execution_count": 95,
   "id": "c3413cdd",
   "metadata": {},
   "outputs": [
    {
     "data": {
      "image/png": "[encoded data removed]",
      "text/plain": [
       "<Figure size 576x684 with 1 Axes>"
      ]
     },
     "metadata": {
      "needs_background": "light"
     },
     "output_type": "display_data"
    }
   ],
   "source": [
    "shap.summary_plot(shap_values, plot_type = 'bar', feature_names = data_to_model_emission_list)"
   ]
  },
  {
   "cell_type": "markdown",
   "id": "6bd06975",
   "metadata": {},
   "source": [
    "## Test de l'intérêt de la variable ENERGY STAR Score pour la prédiction d’émissions"
   ]
  },
  {
   "cell_type": "code",
   "execution_count": 96,
   "id": "bf3a3fd7",
   "metadata": {},
   "outputs": [],
   "source": [
    "# TotalGHGEmissions sont les valeurs que nous voulons prédire\n",
    "TotalGHGEmissions = np.array(data['TotalGHGEmissions'])"
   ]
  },
  {
   "cell_type": "code",
   "execution_count": 97,
   "id": "5143945a",
   "metadata": {},
   "outputs": [],
   "source": [
    "# Eliminer TotalGHGEmissions de data\n",
    "data_to_model_emission = data.drop(['ENERGYSTARScore','SiteEnergyUseWN(kBtu)', 'SiteEnergyUse(kBtu)', 'NaturalGas(kBtu)', 'Electricity(kBtu)', 'SteamUse(kBtu)', 'SiteEUI(kBtu/sf)', 'SiteEUIWN(kBtu/sf)', 'SourceEUI(kBtu/sf)', 'TotalGHGEmissions', 'GHGEmissionsIntensity'], axis = 1)"
   ]
  },
  {
   "cell_type": "code",
   "execution_count": 98,
   "id": "ee8fd3fd",
   "metadata": {},
   "outputs": [],
   "source": [
    "# Enregistrement des noms de colonnes pour une utilisation ultérieure\n",
    "data_to_model_emission_list = list(data_to_model_emission.columns)"
   ]
  },
  {
   "cell_type": "code",
   "execution_count": 99,
   "id": "8e2edf37",
   "metadata": {},
   "outputs": [],
   "source": [
    "# Convertir en numpy array\n",
    "data_to_model_emission = np.array(data_to_model_emission)"
   ]
  },
  {
   "cell_type": "markdown",
   "id": "d72b6024",
   "metadata": {},
   "source": [
    "**Training and Testing Sets**"
   ]
  },
  {
   "cell_type": "code",
   "execution_count": 100,
   "id": "371c2fae",
   "metadata": {},
   "outputs": [],
   "source": [
    "# Using Skicit-learn to split data into training and testing sets\n",
    "from sklearn.model_selection import train_test_split"
   ]
  },
  {
   "cell_type": "code",
   "execution_count": 101,
   "id": "74d720ed",
   "metadata": {},
   "outputs": [],
   "source": [
    "# Split the data into training and testing sets\n",
    "train_data_to_model_emission, test_data_to_model_emission, train_TotalGHGEmissions, test_TotalGHGEmissions = train_test_split(data_to_model_emission, TotalGHGEmissions, test_size = 0.25, random_state = 42)"
   ]
  },
  {
   "cell_type": "code",
   "execution_count": 102,
   "id": "a9bd56c4",
   "metadata": {},
   "outputs": [
    {
     "name": "stdout",
     "output_type": "stream",
     "text": [
      "Training data_to_model_emission Shape: (1131, 131)\n",
      "Training TotalGHGEmissions Shape: (1131,)\n",
      "Testing data_to_model_emission Shape: (377, 131)\n",
      "Testing TotalGHGEmissions Shape: (377,)\n"
     ]
    }
   ],
   "source": [
    "print('Training data_to_model_emission Shape:', train_data_to_model_emission.shape)\n",
    "print('Training TotalGHGEmissions Shape:', train_TotalGHGEmissions.shape)\n",
    "print('Testing data_to_model_emission Shape:', test_data_to_model_emission.shape)\n",
    "print('Testing TotalGHGEmissions Shape:', test_TotalGHGEmissions.shape)"
   ]
  },
  {
   "cell_type": "code",
   "execution_count": 103,
   "id": "207076bd",
   "metadata": {},
   "outputs": [],
   "source": [
    "regressor = xgb.XGBRegressor(eval_metric='rmsle', colsample_bytree = 0.5, gamma = 0.5, max_depth = 5, min_child_weight = 5, subsample = 0.7, n_estimators=100, learning_rate=0.3)"
   ]
  },
  {
   "cell_type": "code",
   "execution_count": 104,
   "id": "fae471b3",
   "metadata": {},
   "outputs": [
    {
     "data": {
      "text/plain": [
       "XGBRegressor(base_score=0.5, booster='gbtree', callbacks=None,\n",
       "             colsample_bylevel=1, colsample_bynode=1, colsample_bytree=0.5,\n",
       "             early_stopping_rounds=None, enable_categorical=False,\n",
       "             eval_metric='rmsle', gamma=0.5, gpu_id=-1, grow_policy='depthwise',\n",
       "             importance_type=None, interaction_constraints='',\n",
       "             learning_rate=0.3, max_bin=256, max_cat_to_onehot=4,\n",
       "             max_delta_step=0, max_depth=5, max_leaves=0, min_child_weight=5,\n",
       "             missing=nan, monotone_constraints='()', n_estimators=100, n_jobs=0,\n",
       "             num_parallel_tree=1, predictor='auto', random_state=0, reg_alpha=0,\n",
       "             reg_lambda=1, ...)"
      ]
     },
     "execution_count": 104,
     "metadata": {},
     "output_type": "execute_result"
    }
   ],
   "source": [
    "# Train the model on the training set\n",
    "regressor.fit(train_data_to_model_emission, train_TotalGHGEmissions) "
   ]
  },
  {
   "cell_type": "code",
   "execution_count": 105,
   "id": "dffdfec2",
   "metadata": {},
   "outputs": [],
   "source": [
    "# Predictions on the training set\n",
    "pred_train_XGBRegressor= regressor.predict(train_data_to_model_emission)"
   ]
  },
  {
   "cell_type": "code",
   "execution_count": 106,
   "id": "2d5dbc31",
   "metadata": {},
   "outputs": [
    {
     "name": "stdout",
     "output_type": "stream",
     "text": [
      "89.47702180903426\n",
      "0.9793974934558887\n"
     ]
    }
   ],
   "source": [
    "# Evaluating the performance of the model on the training set\n",
    "print(np.sqrt(mean_squared_error(train_TotalGHGEmissions,pred_train_XGBRegressor)))\n",
    "print(r2_score(train_TotalGHGEmissions, pred_train_XGBRegressor))"
   ]
  },
  {
   "cell_type": "code",
   "execution_count": 107,
   "id": "7cd9ac44",
   "metadata": {},
   "outputs": [],
   "source": [
    "# Prediction on the test set\n",
    "pred_test_XGBRegressor= regressor.predict(test_data_to_model_emission)"
   ]
  },
  {
   "cell_type": "code",
   "execution_count": 108,
   "id": "87912dd7",
   "metadata": {},
   "outputs": [
    {
     "name": "stdout",
     "output_type": "stream",
     "text": [
      "243.80295134959562\n",
      "0.6406022984799036\n"
     ]
    }
   ],
   "source": [
    "# Evaluating the model on the test set\n",
    "print(np.sqrt(mean_squared_error(test_TotalGHGEmissions,pred_test_XGBRegressor))) \n",
    "print(r2_score(test_TotalGHGEmissions, pred_test_XGBRegressor))"
   ]
  },
  {
   "cell_type": "markdown",
   "id": "34c73f4a",
   "metadata": {},
   "source": [
    "Lorsque la variable ENERGYSTARScore est ecartee, les performances du modele ne change pas (la valeur de R-carre presque ne chapas)"
   ]
  }
 ],
 "metadata": {
  "kernelspec": {
   "display_name": "Python 3 (ipykernel)",
   "language": "python",
   "name": "python3"
  },
  "language_info": {
   "codemirror_mode": {
    "name": "ipython",
    "version": 3
   },
   "file_extension": ".py",
   "mimetype": "text/x-python",
   "name": "python",
   "nbconvert_exporter": "python",
   "pygments_lexer": "ipython3",
   "version": "3.9.7"
  }
 },
 "nbformat": 4,
 "nbformat_minor": 5
}
